{
 "cells": [
  {
   "cell_type": "code",
   "execution_count": 2,
   "id": "e683e609",
   "metadata": {},
   "outputs": [],
   "source": [
    "import numpy as np\n",
    "import pandas as pd\n",
    "import seaborn as sns\n",
    "import matplotlib.pyplot as plt\n",
    "import pandas as pd\n",
    "pd.options.display.float_format = '{:.2f}'.format\n",
    "pd.set_option('display.max_rows', None)\n",
    "%matplotlib inline\n",
    "color = sns.color_palette()"
   ]
  },
  {
   "cell_type": "code",
   "execution_count": 3,
   "id": "90bf0d6a",
   "metadata": {},
   "outputs": [
    {
     "name": "stderr",
     "output_type": "stream",
     "text": [
      "<ipython-input-3-47281b020a76>:1: FutureWarning: Your version of xlrd is 1.2.0. In xlrd >= 2.0, only the xls format is supported. As a result, the openpyxl engine will be used if it is installed and the engine argument is not specified. Install openpyxl instead.\n",
      "  df_1 = pd.read_excel('RetailPulseAssignmentData.xlsx', sheet_name='Year 2009-2010')\n"
     ]
    }
   ],
   "source": [
    "df_1 = pd.read_excel('RetailPulseAssignmentData.xlsx', sheet_name='Year 2009-2010')"
   ]
  },
  {
   "cell_type": "code",
   "execution_count": 4,
   "id": "6e793d3c",
   "metadata": {},
   "outputs": [
    {
     "name": "stderr",
     "output_type": "stream",
     "text": [
      "<ipython-input-4-a97ab20a61d9>:1: FutureWarning: Your version of xlrd is 1.2.0. In xlrd >= 2.0, only the xls format is supported. As a result, the openpyxl engine will be used if it is installed and the engine argument is not specified. Install openpyxl instead.\n",
      "  df_2 = pd.read_excel('RetailPulseAssignmentData.xlsx', sheet_name='Year 2010-2011')\n"
     ]
    }
   ],
   "source": [
    "df_2 = pd.read_excel('RetailPulseAssignmentData.xlsx', sheet_name='Year 2010-2011')"
   ]
  },
  {
   "cell_type": "code",
   "execution_count": 5,
   "id": "2a7b70a4",
   "metadata": {},
   "outputs": [],
   "source": [
    "df = df_1.append(df_2)"
   ]
  },
  {
   "cell_type": "code",
   "execution_count": 6,
   "id": "eaafc963",
   "metadata": {},
   "outputs": [
    {
     "name": "stdout",
     "output_type": "stream",
     "text": [
      "(525461, 8)\n",
      "(541910, 8)\n",
      "(1067371, 8)\n"
     ]
    }
   ],
   "source": [
    "print(df_1.shape)\n",
    "print(df_2.shape)\n",
    "print(df.shape)"
   ]
  },
  {
   "cell_type": "code",
   "execution_count": 7,
   "id": "47a6a18c",
   "metadata": {},
   "outputs": [
    {
     "data": {
      "text/html": [
       "<div>\n",
       "<style scoped>\n",
       "    .dataframe tbody tr th:only-of-type {\n",
       "        vertical-align: middle;\n",
       "    }\n",
       "\n",
       "    .dataframe tbody tr th {\n",
       "        vertical-align: top;\n",
       "    }\n",
       "\n",
       "    .dataframe thead th {\n",
       "        text-align: right;\n",
       "    }\n",
       "</style>\n",
       "<table border=\"1\" class=\"dataframe\">\n",
       "  <thead>\n",
       "    <tr style=\"text-align: right;\">\n",
       "      <th></th>\n",
       "      <th>Invoice</th>\n",
       "      <th>StockCode</th>\n",
       "      <th>Description</th>\n",
       "      <th>Quantity</th>\n",
       "      <th>InvoiceDate</th>\n",
       "      <th>Price</th>\n",
       "      <th>Customer ID</th>\n",
       "      <th>Country</th>\n",
       "    </tr>\n",
       "  </thead>\n",
       "  <tbody>\n",
       "    <tr>\n",
       "      <th>0</th>\n",
       "      <td>489434</td>\n",
       "      <td>85048</td>\n",
       "      <td>15CM CHRISTMAS GLASS BALL 20 LIGHTS</td>\n",
       "      <td>12</td>\n",
       "      <td>2009-12-01 07:45:00</td>\n",
       "      <td>6.95</td>\n",
       "      <td>13085.00</td>\n",
       "      <td>United Kingdom</td>\n",
       "    </tr>\n",
       "    <tr>\n",
       "      <th>1</th>\n",
       "      <td>489434</td>\n",
       "      <td>79323P</td>\n",
       "      <td>PINK CHERRY LIGHTS</td>\n",
       "      <td>12</td>\n",
       "      <td>2009-12-01 07:45:00</td>\n",
       "      <td>6.75</td>\n",
       "      <td>13085.00</td>\n",
       "      <td>United Kingdom</td>\n",
       "    </tr>\n",
       "    <tr>\n",
       "      <th>2</th>\n",
       "      <td>489434</td>\n",
       "      <td>79323W</td>\n",
       "      <td>WHITE CHERRY LIGHTS</td>\n",
       "      <td>12</td>\n",
       "      <td>2009-12-01 07:45:00</td>\n",
       "      <td>6.75</td>\n",
       "      <td>13085.00</td>\n",
       "      <td>United Kingdom</td>\n",
       "    </tr>\n",
       "    <tr>\n",
       "      <th>3</th>\n",
       "      <td>489434</td>\n",
       "      <td>22041</td>\n",
       "      <td>RECORD FRAME 7\" SINGLE SIZE</td>\n",
       "      <td>48</td>\n",
       "      <td>2009-12-01 07:45:00</td>\n",
       "      <td>2.10</td>\n",
       "      <td>13085.00</td>\n",
       "      <td>United Kingdom</td>\n",
       "    </tr>\n",
       "    <tr>\n",
       "      <th>4</th>\n",
       "      <td>489434</td>\n",
       "      <td>21232</td>\n",
       "      <td>STRAWBERRY CERAMIC TRINKET BOX</td>\n",
       "      <td>24</td>\n",
       "      <td>2009-12-01 07:45:00</td>\n",
       "      <td>1.25</td>\n",
       "      <td>13085.00</td>\n",
       "      <td>United Kingdom</td>\n",
       "    </tr>\n",
       "  </tbody>\n",
       "</table>\n",
       "</div>"
      ],
      "text/plain": [
       "  Invoice StockCode                          Description  Quantity  \\\n",
       "0  489434     85048  15CM CHRISTMAS GLASS BALL 20 LIGHTS        12   \n",
       "1  489434    79323P                   PINK CHERRY LIGHTS        12   \n",
       "2  489434    79323W                  WHITE CHERRY LIGHTS        12   \n",
       "3  489434     22041         RECORD FRAME 7\" SINGLE SIZE         48   \n",
       "4  489434     21232       STRAWBERRY CERAMIC TRINKET BOX        24   \n",
       "\n",
       "          InvoiceDate  Price  Customer ID         Country  \n",
       "0 2009-12-01 07:45:00   6.95     13085.00  United Kingdom  \n",
       "1 2009-12-01 07:45:00   6.75     13085.00  United Kingdom  \n",
       "2 2009-12-01 07:45:00   6.75     13085.00  United Kingdom  \n",
       "3 2009-12-01 07:45:00   2.10     13085.00  United Kingdom  \n",
       "4 2009-12-01 07:45:00   1.25     13085.00  United Kingdom  "
      ]
     },
     "execution_count": 7,
     "metadata": {},
     "output_type": "execute_result"
    }
   ],
   "source": [
    "df.head()"
   ]
  },
  {
   "cell_type": "markdown",
   "id": "84e0e84a",
   "metadata": {},
   "source": [
    "## First we will begin exploring the variables"
   ]
  },
  {
   "cell_type": "code",
   "execution_count": 8,
   "id": "b369e10d",
   "metadata": {},
   "outputs": [
    {
     "name": "stdout",
     "output_type": "stream",
     "text": [
      "<class 'pandas.core.frame.DataFrame'>\n",
      "Int64Index: 1067371 entries, 0 to 541909\n",
      "Data columns (total 8 columns):\n",
      " #   Column       Non-Null Count    Dtype         \n",
      "---  ------       --------------    -----         \n",
      " 0   Invoice      1067371 non-null  object        \n",
      " 1   StockCode    1067371 non-null  object        \n",
      " 2   Description  1062989 non-null  object        \n",
      " 3   Quantity     1067371 non-null  int64         \n",
      " 4   InvoiceDate  1067371 non-null  datetime64[ns]\n",
      " 5   Price        1067371 non-null  float64       \n",
      " 6   Customer ID  824364 non-null   float64       \n",
      " 7   Country      1067371 non-null  object        \n",
      "dtypes: datetime64[ns](1), float64(2), int64(1), object(4)\n",
      "memory usage: 73.3+ MB\n"
     ]
    }
   ],
   "source": [
    "df.info()\n"
   ]
  },
  {
   "cell_type": "markdown",
   "id": "c495b258",
   "metadata": {},
   "source": [
    "#### Categorical Features (Nominal) : Invoice , Stock Code, Country, Description , CustomerID\n",
    "#### Numeric Features : Price, Quantity , InvoiceDate (date time)"
   ]
  },
  {
   "cell_type": "code",
   "execution_count": 9,
   "id": "c10a5d43",
   "metadata": {},
   "outputs": [
    {
     "name": "stdout",
     "output_type": "stream",
     "text": [
      "Products: 5305\n",
      "Transactions: 53628\n",
      "Customers: 5942\n"
     ]
    }
   ],
   "source": [
    "#now let us check see the unique products, Customers and transactions\n",
    "print(\"Products: \"+str(len(df['StockCode'].value_counts())))\n",
    "print(\"Transactions: \"+str(len(df['Invoice'].value_counts())))\n",
    "print(\"Customers: \"+str(len(df['Customer ID'].value_counts())))"
   ]
  },
  {
   "cell_type": "code",
   "execution_count": 10,
   "id": "010dfd6c",
   "metadata": {},
   "outputs": [
    {
     "data": {
      "text/html": [
       "<div>\n",
       "<style scoped>\n",
       "    .dataframe tbody tr th:only-of-type {\n",
       "        vertical-align: middle;\n",
       "    }\n",
       "\n",
       "    .dataframe tbody tr th {\n",
       "        vertical-align: top;\n",
       "    }\n",
       "\n",
       "    .dataframe thead th {\n",
       "        text-align: right;\n",
       "    }\n",
       "</style>\n",
       "<table border=\"1\" class=\"dataframe\">\n",
       "  <thead>\n",
       "    <tr style=\"text-align: right;\">\n",
       "      <th></th>\n",
       "      <th>Customer ID</th>\n",
       "      <th>Invoice</th>\n",
       "      <th>Number of products</th>\n",
       "    </tr>\n",
       "  </thead>\n",
       "  <tbody>\n",
       "    <tr>\n",
       "      <th>0</th>\n",
       "      <td>12346.00</td>\n",
       "      <td>491725</td>\n",
       "      <td>1</td>\n",
       "    </tr>\n",
       "    <tr>\n",
       "      <th>16</th>\n",
       "      <td>12346.00</td>\n",
       "      <td>C541433</td>\n",
       "      <td>1</td>\n",
       "    </tr>\n",
       "    <tr>\n",
       "      <th>15</th>\n",
       "      <td>12346.00</td>\n",
       "      <td>C525274</td>\n",
       "      <td>1</td>\n",
       "    </tr>\n",
       "    <tr>\n",
       "      <th>14</th>\n",
       "      <td>12346.00</td>\n",
       "      <td>C525099</td>\n",
       "      <td>1</td>\n",
       "    </tr>\n",
       "    <tr>\n",
       "      <th>13</th>\n",
       "      <td>12346.00</td>\n",
       "      <td>C514024</td>\n",
       "      <td>10</td>\n",
       "    </tr>\n",
       "    <tr>\n",
       "      <th>12</th>\n",
       "      <td>12346.00</td>\n",
       "      <td>C495800</td>\n",
       "      <td>1</td>\n",
       "    </tr>\n",
       "    <tr>\n",
       "      <th>11</th>\n",
       "      <td>12346.00</td>\n",
       "      <td>541431</td>\n",
       "      <td>1</td>\n",
       "    </tr>\n",
       "    <tr>\n",
       "      <th>10</th>\n",
       "      <td>12346.00</td>\n",
       "      <td>513774</td>\n",
       "      <td>19</td>\n",
       "    </tr>\n",
       "    <tr>\n",
       "      <th>9</th>\n",
       "      <td>12346.00</td>\n",
       "      <td>499763</td>\n",
       "      <td>5</td>\n",
       "    </tr>\n",
       "    <tr>\n",
       "      <th>7</th>\n",
       "      <td>12346.00</td>\n",
       "      <td>494450</td>\n",
       "      <td>1</td>\n",
       "    </tr>\n",
       "    <tr>\n",
       "      <th>6</th>\n",
       "      <td>12346.00</td>\n",
       "      <td>493412</td>\n",
       "      <td>1</td>\n",
       "    </tr>\n",
       "    <tr>\n",
       "      <th>5</th>\n",
       "      <td>12346.00</td>\n",
       "      <td>493410</td>\n",
       "      <td>1</td>\n",
       "    </tr>\n",
       "    <tr>\n",
       "      <th>4</th>\n",
       "      <td>12346.00</td>\n",
       "      <td>492722</td>\n",
       "      <td>1</td>\n",
       "    </tr>\n",
       "    <tr>\n",
       "      <th>3</th>\n",
       "      <td>12346.00</td>\n",
       "      <td>492718</td>\n",
       "      <td>1</td>\n",
       "    </tr>\n",
       "    <tr>\n",
       "      <th>2</th>\n",
       "      <td>12346.00</td>\n",
       "      <td>491744</td>\n",
       "      <td>1</td>\n",
       "    </tr>\n",
       "    <tr>\n",
       "      <th>1</th>\n",
       "      <td>12346.00</td>\n",
       "      <td>491742</td>\n",
       "      <td>1</td>\n",
       "    </tr>\n",
       "    <tr>\n",
       "      <th>8</th>\n",
       "      <td>12346.00</td>\n",
       "      <td>495295</td>\n",
       "      <td>1</td>\n",
       "    </tr>\n",
       "    <tr>\n",
       "      <th>23</th>\n",
       "      <td>12347.00</td>\n",
       "      <td>573511</td>\n",
       "      <td>47</td>\n",
       "    </tr>\n",
       "    <tr>\n",
       "      <th>24</th>\n",
       "      <td>12347.00</td>\n",
       "      <td>581180</td>\n",
       "      <td>11</td>\n",
       "    </tr>\n",
       "    <tr>\n",
       "      <th>22</th>\n",
       "      <td>12347.00</td>\n",
       "      <td>562032</td>\n",
       "      <td>22</td>\n",
       "    </tr>\n",
       "    <tr>\n",
       "      <th>21</th>\n",
       "      <td>12347.00</td>\n",
       "      <td>556201</td>\n",
       "      <td>18</td>\n",
       "    </tr>\n",
       "    <tr>\n",
       "      <th>19</th>\n",
       "      <td>12347.00</td>\n",
       "      <td>542237</td>\n",
       "      <td>29</td>\n",
       "    </tr>\n",
       "    <tr>\n",
       "      <th>18</th>\n",
       "      <td>12347.00</td>\n",
       "      <td>537626</td>\n",
       "      <td>62</td>\n",
       "    </tr>\n",
       "    <tr>\n",
       "      <th>17</th>\n",
       "      <td>12347.00</td>\n",
       "      <td>529924</td>\n",
       "      <td>40</td>\n",
       "    </tr>\n",
       "    <tr>\n",
       "      <th>20</th>\n",
       "      <td>12347.00</td>\n",
       "      <td>549222</td>\n",
       "      <td>24</td>\n",
       "    </tr>\n",
       "    <tr>\n",
       "      <th>29</th>\n",
       "      <td>12348.00</td>\n",
       "      <td>568172</td>\n",
       "      <td>3</td>\n",
       "    </tr>\n",
       "    <tr>\n",
       "      <th>25</th>\n",
       "      <td>12348.00</td>\n",
       "      <td>524140</td>\n",
       "      <td>20</td>\n",
       "    </tr>\n",
       "    <tr>\n",
       "      <th>26</th>\n",
       "      <td>12348.00</td>\n",
       "      <td>539318</td>\n",
       "      <td>17</td>\n",
       "    </tr>\n",
       "    <tr>\n",
       "      <th>27</th>\n",
       "      <td>12348.00</td>\n",
       "      <td>541998</td>\n",
       "      <td>6</td>\n",
       "    </tr>\n",
       "    <tr>\n",
       "      <th>28</th>\n",
       "      <td>12348.00</td>\n",
       "      <td>548955</td>\n",
       "      <td>5</td>\n",
       "    </tr>\n",
       "    <tr>\n",
       "      <th>34</th>\n",
       "      <td>12349.00</td>\n",
       "      <td>C490283</td>\n",
       "      <td>5</td>\n",
       "    </tr>\n",
       "    <tr>\n",
       "      <th>33</th>\n",
       "      <td>12349.00</td>\n",
       "      <td>577609</td>\n",
       "      <td>73</td>\n",
       "    </tr>\n",
       "    <tr>\n",
       "      <th>31</th>\n",
       "      <td>12349.00</td>\n",
       "      <td>508728</td>\n",
       "      <td>1</td>\n",
       "    </tr>\n",
       "    <tr>\n",
       "      <th>30</th>\n",
       "      <td>12349.00</td>\n",
       "      <td>506394</td>\n",
       "      <td>46</td>\n",
       "    </tr>\n",
       "    <tr>\n",
       "      <th>32</th>\n",
       "      <td>12349.00</td>\n",
       "      <td>529344</td>\n",
       "      <td>55</td>\n",
       "    </tr>\n",
       "    <tr>\n",
       "      <th>35</th>\n",
       "      <td>12350.00</td>\n",
       "      <td>543037</td>\n",
       "      <td>17</td>\n",
       "    </tr>\n",
       "    <tr>\n",
       "      <th>36</th>\n",
       "      <td>12351.00</td>\n",
       "      <td>536012</td>\n",
       "      <td>21</td>\n",
       "    </tr>\n",
       "    <tr>\n",
       "      <th>45</th>\n",
       "      <td>12352.00</td>\n",
       "      <td>568699</td>\n",
       "      <td>14</td>\n",
       "    </tr>\n",
       "    <tr>\n",
       "      <th>46</th>\n",
       "      <td>12352.00</td>\n",
       "      <td>574275</td>\n",
       "      <td>15</td>\n",
       "    </tr>\n",
       "    <tr>\n",
       "      <th>44</th>\n",
       "      <td>12352.00</td>\n",
       "      <td>567505</td>\n",
       "      <td>18</td>\n",
       "    </tr>\n",
       "    <tr>\n",
       "      <th>48</th>\n",
       "      <td>12352.00</td>\n",
       "      <td>C545330</td>\n",
       "      <td>1</td>\n",
       "    </tr>\n",
       "    <tr>\n",
       "      <th>47</th>\n",
       "      <td>12352.00</td>\n",
       "      <td>C545329</td>\n",
       "      <td>2</td>\n",
       "    </tr>\n",
       "    <tr>\n",
       "      <th>43</th>\n",
       "      <td>12352.00</td>\n",
       "      <td>547390</td>\n",
       "      <td>8</td>\n",
       "    </tr>\n",
       "    <tr>\n",
       "      <th>49</th>\n",
       "      <td>12352.00</td>\n",
       "      <td>C547388</td>\n",
       "      <td>7</td>\n",
       "    </tr>\n",
       "    <tr>\n",
       "      <th>41</th>\n",
       "      <td>12352.00</td>\n",
       "      <td>545332</td>\n",
       "      <td>3</td>\n",
       "    </tr>\n",
       "    <tr>\n",
       "      <th>40</th>\n",
       "      <td>12352.00</td>\n",
       "      <td>545323</td>\n",
       "      <td>5</td>\n",
       "    </tr>\n",
       "    <tr>\n",
       "      <th>39</th>\n",
       "      <td>12352.00</td>\n",
       "      <td>544156</td>\n",
       "      <td>15</td>\n",
       "    </tr>\n",
       "    <tr>\n",
       "      <th>38</th>\n",
       "      <td>12352.00</td>\n",
       "      <td>535838</td>\n",
       "      <td>12</td>\n",
       "    </tr>\n",
       "    <tr>\n",
       "      <th>37</th>\n",
       "      <td>12352.00</td>\n",
       "      <td>532430</td>\n",
       "      <td>6</td>\n",
       "    </tr>\n",
       "    <tr>\n",
       "      <th>42</th>\n",
       "      <td>12352.00</td>\n",
       "      <td>546869</td>\n",
       "      <td>7</td>\n",
       "    </tr>\n",
       "    <tr>\n",
       "      <th>50</th>\n",
       "      <td>12353.00</td>\n",
       "      <td>529304</td>\n",
       "      <td>20</td>\n",
       "    </tr>\n",
       "    <tr>\n",
       "      <th>51</th>\n",
       "      <td>12353.00</td>\n",
       "      <td>553900</td>\n",
       "      <td>4</td>\n",
       "    </tr>\n",
       "    <tr>\n",
       "      <th>52</th>\n",
       "      <td>12354.00</td>\n",
       "      <td>550911</td>\n",
       "      <td>58</td>\n",
       "    </tr>\n",
       "    <tr>\n",
       "      <th>53</th>\n",
       "      <td>12355.00</td>\n",
       "      <td>509300</td>\n",
       "      <td>22</td>\n",
       "    </tr>\n",
       "    <tr>\n",
       "      <th>54</th>\n",
       "      <td>12355.00</td>\n",
       "      <td>552449</td>\n",
       "      <td>13</td>\n",
       "    </tr>\n",
       "    <tr>\n",
       "      <th>60</th>\n",
       "      <td>12356.00</td>\n",
       "      <td>576895</td>\n",
       "      <td>2</td>\n",
       "    </tr>\n",
       "    <tr>\n",
       "      <th>58</th>\n",
       "      <td>12356.00</td>\n",
       "      <td>541430</td>\n",
       "      <td>36</td>\n",
       "    </tr>\n",
       "    <tr>\n",
       "      <th>59</th>\n",
       "      <td>12356.00</td>\n",
       "      <td>549435</td>\n",
       "      <td>21</td>\n",
       "    </tr>\n",
       "    <tr>\n",
       "      <th>56</th>\n",
       "      <td>12356.00</td>\n",
       "      <td>532305</td>\n",
       "      <td>20</td>\n",
       "    </tr>\n",
       "    <tr>\n",
       "      <th>55</th>\n",
       "      <td>12356.00</td>\n",
       "      <td>526245</td>\n",
       "      <td>37</td>\n",
       "    </tr>\n",
       "    <tr>\n",
       "      <th>57</th>\n",
       "      <td>12356.00</td>\n",
       "      <td>534804</td>\n",
       "      <td>27</td>\n",
       "    </tr>\n",
       "    <tr>\n",
       "      <th>61</th>\n",
       "      <td>12357.00</td>\n",
       "      <td>533088</td>\n",
       "      <td>164</td>\n",
       "    </tr>\n",
       "    <tr>\n",
       "      <th>62</th>\n",
       "      <td>12357.00</td>\n",
       "      <td>533162</td>\n",
       "      <td>1</td>\n",
       "    </tr>\n",
       "    <tr>\n",
       "      <th>63</th>\n",
       "      <td>12357.00</td>\n",
       "      <td>574740</td>\n",
       "      <td>131</td>\n",
       "    </tr>\n",
       "    <tr>\n",
       "      <th>68</th>\n",
       "      <td>12358.00</td>\n",
       "      <td>581232</td>\n",
       "      <td>7</td>\n",
       "    </tr>\n",
       "    <tr>\n",
       "      <th>67</th>\n",
       "      <td>12358.00</td>\n",
       "      <td>559707</td>\n",
       "      <td>12</td>\n",
       "    </tr>\n",
       "    <tr>\n",
       "      <th>66</th>\n",
       "      <td>12358.00</td>\n",
       "      <td>535879</td>\n",
       "      <td>23</td>\n",
       "    </tr>\n",
       "    <tr>\n",
       "      <th>64</th>\n",
       "      <td>12358.00</td>\n",
       "      <td>490751</td>\n",
       "      <td>17</td>\n",
       "    </tr>\n",
       "    <tr>\n",
       "      <th>65</th>\n",
       "      <td>12358.00</td>\n",
       "      <td>511229</td>\n",
       "      <td>18</td>\n",
       "    </tr>\n",
       "    <tr>\n",
       "      <th>77</th>\n",
       "      <td>12359.00</td>\n",
       "      <td>555477</td>\n",
       "      <td>47</td>\n",
       "    </tr>\n",
       "    <tr>\n",
       "      <th>81</th>\n",
       "      <td>12359.00</td>\n",
       "      <td>C549955</td>\n",
       "      <td>2</td>\n",
       "    </tr>\n",
       "    <tr>\n",
       "      <th>80</th>\n",
       "      <td>12359.00</td>\n",
       "      <td>C504179</td>\n",
       "      <td>2</td>\n",
       "    </tr>\n",
       "    <tr>\n",
       "      <th>82</th>\n",
       "      <td>12359.00</td>\n",
       "      <td>C580165</td>\n",
       "      <td>4</td>\n",
       "    </tr>\n",
       "    <tr>\n",
       "      <th>79</th>\n",
       "      <td>12359.00</td>\n",
       "      <td>C492402</td>\n",
       "      <td>2</td>\n",
       "    </tr>\n",
       "    <tr>\n",
       "      <th>78</th>\n",
       "      <td>12359.00</td>\n",
       "      <td>571034</td>\n",
       "      <td>105</td>\n",
       "    </tr>\n",
       "    <tr>\n",
       "      <th>76</th>\n",
       "      <td>12359.00</td>\n",
       "      <td>543370</td>\n",
       "      <td>80</td>\n",
       "    </tr>\n",
       "    <tr>\n",
       "      <th>71</th>\n",
       "      <td>12359.00</td>\n",
       "      <td>500379</td>\n",
       "      <td>19</td>\n",
       "    </tr>\n",
       "    <tr>\n",
       "      <th>74</th>\n",
       "      <td>12359.00</td>\n",
       "      <td>526174</td>\n",
       "      <td>31</td>\n",
       "    </tr>\n",
       "    <tr>\n",
       "      <th>73</th>\n",
       "      <td>12359.00</td>\n",
       "      <td>513123</td>\n",
       "      <td>20</td>\n",
       "    </tr>\n",
       "    <tr>\n",
       "      <th>72</th>\n",
       "      <td>12359.00</td>\n",
       "      <td>502098</td>\n",
       "      <td>13</td>\n",
       "    </tr>\n",
       "    <tr>\n",
       "      <th>70</th>\n",
       "      <td>12359.00</td>\n",
       "      <td>492397</td>\n",
       "      <td>2</td>\n",
       "    </tr>\n",
       "    <tr>\n",
       "      <th>69</th>\n",
       "      <td>12359.00</td>\n",
       "      <td>490382</td>\n",
       "      <td>32</td>\n",
       "    </tr>\n",
       "    <tr>\n",
       "      <th>75</th>\n",
       "      <td>12359.00</td>\n",
       "      <td>540946</td>\n",
       "      <td>16</td>\n",
       "    </tr>\n",
       "    <tr>\n",
       "      <th>91</th>\n",
       "      <td>12360.00</td>\n",
       "      <td>C509628</td>\n",
       "      <td>1</td>\n",
       "    </tr>\n",
       "    <tr>\n",
       "      <th>90</th>\n",
       "      <td>12360.00</td>\n",
       "      <td>571705</td>\n",
       "      <td>54</td>\n",
       "    </tr>\n",
       "    <tr>\n",
       "      <th>89</th>\n",
       "      <td>12360.00</td>\n",
       "      <td>563749</td>\n",
       "      <td>30</td>\n",
       "    </tr>\n",
       "    <tr>\n",
       "      <th>87</th>\n",
       "      <td>12360.00</td>\n",
       "      <td>535105</td>\n",
       "      <td>1</td>\n",
       "    </tr>\n",
       "    <tr>\n",
       "      <th>88</th>\n",
       "      <td>12360.00</td>\n",
       "      <td>554132</td>\n",
       "      <td>45</td>\n",
       "    </tr>\n",
       "    <tr>\n",
       "      <th>85</th>\n",
       "      <td>12360.00</td>\n",
       "      <td>509627</td>\n",
       "      <td>34</td>\n",
       "    </tr>\n",
       "    <tr>\n",
       "      <th>84</th>\n",
       "      <td>12360.00</td>\n",
       "      <td>502331</td>\n",
       "      <td>1</td>\n",
       "    </tr>\n",
       "    <tr>\n",
       "      <th>83</th>\n",
       "      <td>12360.00</td>\n",
       "      <td>498613</td>\n",
       "      <td>10</td>\n",
       "    </tr>\n",
       "    <tr>\n",
       "      <th>86</th>\n",
       "      <td>12360.00</td>\n",
       "      <td>532443</td>\n",
       "      <td>42</td>\n",
       "    </tr>\n",
       "    <tr>\n",
       "      <th>92</th>\n",
       "      <td>12361.00</td>\n",
       "      <td>495719</td>\n",
       "      <td>7</td>\n",
       "    </tr>\n",
       "    <tr>\n",
       "      <th>93</th>\n",
       "      <td>12361.00</td>\n",
       "      <td>507426</td>\n",
       "      <td>6</td>\n",
       "    </tr>\n",
       "    <tr>\n",
       "      <th>94</th>\n",
       "      <td>12361.00</td>\n",
       "      <td>521354</td>\n",
       "      <td>6</td>\n",
       "    </tr>\n",
       "    <tr>\n",
       "      <th>95</th>\n",
       "      <td>12361.00</td>\n",
       "      <td>545017</td>\n",
       "      <td>10</td>\n",
       "    </tr>\n",
       "    <tr>\n",
       "      <th>98</th>\n",
       "      <td>12362.00</td>\n",
       "      <td>551346</td>\n",
       "      <td>29</td>\n",
       "    </tr>\n",
       "    <tr>\n",
       "      <th>96</th>\n",
       "      <td>12362.00</td>\n",
       "      <td>489447</td>\n",
       "      <td>1</td>\n",
       "    </tr>\n",
       "    <tr>\n",
       "      <th>97</th>\n",
       "      <td>12362.00</td>\n",
       "      <td>544203</td>\n",
       "      <td>27</td>\n",
       "    </tr>\n",
       "    <tr>\n",
       "      <th>99</th>\n",
       "      <td>12362.00</td>\n",
       "      <td>559295</td>\n",
       "      <td>19</td>\n",
       "    </tr>\n",
       "  </tbody>\n",
       "</table>\n",
       "</div>"
      ],
      "text/plain": [
       "    Customer ID  Invoice  Number of products\n",
       "0      12346.00   491725                   1\n",
       "16     12346.00  C541433                   1\n",
       "15     12346.00  C525274                   1\n",
       "14     12346.00  C525099                   1\n",
       "13     12346.00  C514024                  10\n",
       "12     12346.00  C495800                   1\n",
       "11     12346.00   541431                   1\n",
       "10     12346.00   513774                  19\n",
       "9      12346.00   499763                   5\n",
       "7      12346.00   494450                   1\n",
       "6      12346.00   493412                   1\n",
       "5      12346.00   493410                   1\n",
       "4      12346.00   492722                   1\n",
       "3      12346.00   492718                   1\n",
       "2      12346.00   491744                   1\n",
       "1      12346.00   491742                   1\n",
       "8      12346.00   495295                   1\n",
       "23     12347.00   573511                  47\n",
       "24     12347.00   581180                  11\n",
       "22     12347.00   562032                  22\n",
       "21     12347.00   556201                  18\n",
       "19     12347.00   542237                  29\n",
       "18     12347.00   537626                  62\n",
       "17     12347.00   529924                  40\n",
       "20     12347.00   549222                  24\n",
       "29     12348.00   568172                   3\n",
       "25     12348.00   524140                  20\n",
       "26     12348.00   539318                  17\n",
       "27     12348.00   541998                   6\n",
       "28     12348.00   548955                   5\n",
       "34     12349.00  C490283                   5\n",
       "33     12349.00   577609                  73\n",
       "31     12349.00   508728                   1\n",
       "30     12349.00   506394                  46\n",
       "32     12349.00   529344                  55\n",
       "35     12350.00   543037                  17\n",
       "36     12351.00   536012                  21\n",
       "45     12352.00   568699                  14\n",
       "46     12352.00   574275                  15\n",
       "44     12352.00   567505                  18\n",
       "48     12352.00  C545330                   1\n",
       "47     12352.00  C545329                   2\n",
       "43     12352.00   547390                   8\n",
       "49     12352.00  C547388                   7\n",
       "41     12352.00   545332                   3\n",
       "40     12352.00   545323                   5\n",
       "39     12352.00   544156                  15\n",
       "38     12352.00   535838                  12\n",
       "37     12352.00   532430                   6\n",
       "42     12352.00   546869                   7\n",
       "50     12353.00   529304                  20\n",
       "51     12353.00   553900                   4\n",
       "52     12354.00   550911                  58\n",
       "53     12355.00   509300                  22\n",
       "54     12355.00   552449                  13\n",
       "60     12356.00   576895                   2\n",
       "58     12356.00   541430                  36\n",
       "59     12356.00   549435                  21\n",
       "56     12356.00   532305                  20\n",
       "55     12356.00   526245                  37\n",
       "57     12356.00   534804                  27\n",
       "61     12357.00   533088                 164\n",
       "62     12357.00   533162                   1\n",
       "63     12357.00   574740                 131\n",
       "68     12358.00   581232                   7\n",
       "67     12358.00   559707                  12\n",
       "66     12358.00   535879                  23\n",
       "64     12358.00   490751                  17\n",
       "65     12358.00   511229                  18\n",
       "77     12359.00   555477                  47\n",
       "81     12359.00  C549955                   2\n",
       "80     12359.00  C504179                   2\n",
       "82     12359.00  C580165                   4\n",
       "79     12359.00  C492402                   2\n",
       "78     12359.00   571034                 105\n",
       "76     12359.00   543370                  80\n",
       "71     12359.00   500379                  19\n",
       "74     12359.00   526174                  31\n",
       "73     12359.00   513123                  20\n",
       "72     12359.00   502098                  13\n",
       "70     12359.00   492397                   2\n",
       "69     12359.00   490382                  32\n",
       "75     12359.00   540946                  16\n",
       "91     12360.00  C509628                   1\n",
       "90     12360.00   571705                  54\n",
       "89     12360.00   563749                  30\n",
       "87     12360.00   535105                   1\n",
       "88     12360.00   554132                  45\n",
       "85     12360.00   509627                  34\n",
       "84     12360.00   502331                   1\n",
       "83     12360.00   498613                  10\n",
       "86     12360.00   532443                  42\n",
       "92     12361.00   495719                   7\n",
       "93     12361.00   507426                   6\n",
       "94     12361.00   521354                   6\n",
       "95     12361.00   545017                  10\n",
       "98     12362.00   551346                  29\n",
       "96     12362.00   489447                   1\n",
       "97     12362.00   544203                  27\n",
       "99     12362.00   559295                  19"
      ]
     },
     "execution_count": 10,
     "metadata": {},
     "output_type": "execute_result"
    }
   ],
   "source": [
    "#now let us look at the number of products purchased per transaction\n",
    "temp = df.groupby(by=['Customer ID', 'Invoice'], as_index=False)['InvoiceDate'].count()\n",
    "products_per_transaction = temp.rename(columns = {'InvoiceDate':'Number of products'})\n",
    "products_per_transaction[:100].sort_values('Customer ID')"
   ]
  },
  {
   "cell_type": "code",
   "execution_count": 11,
   "id": "beaa8fc4",
   "metadata": {},
   "outputs": [],
   "source": [
    "#what can be observed from here is that there are some transactions with C \n",
    "#in the beginning of the Invoice. Since the invoice was only a 6 digit number until now,\n",
    "#but with the C it must mean the transaction was cancelled for some reason\n",
    "\n",
    "#alse we can see there are customers who purchased only one product\n",
    "\n",
    "#and there were customers who purchased many products quite frequently\n",
    "\n"
   ]
  },
  {
   "cell_type": "code",
   "execution_count": 12,
   "id": "95101110",
   "metadata": {},
   "outputs": [
    {
     "data": {
      "text/plain": [
       "int"
      ]
     },
     "execution_count": 12,
     "metadata": {},
     "output_type": "execute_result"
    }
   ],
   "source": [
    "type(products_per_transaction['Invoice'][50])"
   ]
  },
  {
   "cell_type": "markdown",
   "id": "43a3b236",
   "metadata": {},
   "source": [
    "### Order Cancellation analysis"
   ]
  },
  {
   "cell_type": "code",
   "execution_count": 13,
   "id": "bd090f6d",
   "metadata": {
    "scrolled": false
   },
   "outputs": [
    {
     "data": {
      "text/html": [
       "<div>\n",
       "<style scoped>\n",
       "    .dataframe tbody tr th:only-of-type {\n",
       "        vertical-align: middle;\n",
       "    }\n",
       "\n",
       "    .dataframe tbody tr th {\n",
       "        vertical-align: top;\n",
       "    }\n",
       "\n",
       "    .dataframe thead th {\n",
       "        text-align: right;\n",
       "    }\n",
       "</style>\n",
       "<table border=\"1\" class=\"dataframe\">\n",
       "  <thead>\n",
       "    <tr style=\"text-align: right;\">\n",
       "      <th></th>\n",
       "      <th>Customer ID</th>\n",
       "      <th>Invoice</th>\n",
       "      <th>Number of products</th>\n",
       "      <th>cancelled_order</th>\n",
       "    </tr>\n",
       "  </thead>\n",
       "  <tbody>\n",
       "    <tr>\n",
       "      <th>0</th>\n",
       "      <td>12346.00</td>\n",
       "      <td>491725</td>\n",
       "      <td>1</td>\n",
       "      <td>0</td>\n",
       "    </tr>\n",
       "    <tr>\n",
       "      <th>1</th>\n",
       "      <td>12346.00</td>\n",
       "      <td>491742</td>\n",
       "      <td>1</td>\n",
       "      <td>0</td>\n",
       "    </tr>\n",
       "    <tr>\n",
       "      <th>2</th>\n",
       "      <td>12346.00</td>\n",
       "      <td>491744</td>\n",
       "      <td>1</td>\n",
       "      <td>0</td>\n",
       "    </tr>\n",
       "    <tr>\n",
       "      <th>3</th>\n",
       "      <td>12346.00</td>\n",
       "      <td>492718</td>\n",
       "      <td>1</td>\n",
       "      <td>0</td>\n",
       "    </tr>\n",
       "    <tr>\n",
       "      <th>4</th>\n",
       "      <td>12346.00</td>\n",
       "      <td>492722</td>\n",
       "      <td>1</td>\n",
       "      <td>0</td>\n",
       "    </tr>\n",
       "    <tr>\n",
       "      <th>5</th>\n",
       "      <td>12346.00</td>\n",
       "      <td>493410</td>\n",
       "      <td>1</td>\n",
       "      <td>0</td>\n",
       "    </tr>\n",
       "    <tr>\n",
       "      <th>6</th>\n",
       "      <td>12346.00</td>\n",
       "      <td>493412</td>\n",
       "      <td>1</td>\n",
       "      <td>0</td>\n",
       "    </tr>\n",
       "    <tr>\n",
       "      <th>7</th>\n",
       "      <td>12346.00</td>\n",
       "      <td>494450</td>\n",
       "      <td>1</td>\n",
       "      <td>0</td>\n",
       "    </tr>\n",
       "    <tr>\n",
       "      <th>8</th>\n",
       "      <td>12346.00</td>\n",
       "      <td>495295</td>\n",
       "      <td>1</td>\n",
       "      <td>0</td>\n",
       "    </tr>\n",
       "    <tr>\n",
       "      <th>9</th>\n",
       "      <td>12346.00</td>\n",
       "      <td>499763</td>\n",
       "      <td>5</td>\n",
       "      <td>0</td>\n",
       "    </tr>\n",
       "    <tr>\n",
       "      <th>10</th>\n",
       "      <td>12346.00</td>\n",
       "      <td>513774</td>\n",
       "      <td>19</td>\n",
       "      <td>0</td>\n",
       "    </tr>\n",
       "    <tr>\n",
       "      <th>11</th>\n",
       "      <td>12346.00</td>\n",
       "      <td>541431</td>\n",
       "      <td>1</td>\n",
       "      <td>0</td>\n",
       "    </tr>\n",
       "    <tr>\n",
       "      <th>12</th>\n",
       "      <td>12346.00</td>\n",
       "      <td>C495800</td>\n",
       "      <td>1</td>\n",
       "      <td>1</td>\n",
       "    </tr>\n",
       "    <tr>\n",
       "      <th>13</th>\n",
       "      <td>12346.00</td>\n",
       "      <td>C514024</td>\n",
       "      <td>10</td>\n",
       "      <td>1</td>\n",
       "    </tr>\n",
       "    <tr>\n",
       "      <th>14</th>\n",
       "      <td>12346.00</td>\n",
       "      <td>C525099</td>\n",
       "      <td>1</td>\n",
       "      <td>1</td>\n",
       "    </tr>\n",
       "  </tbody>\n",
       "</table>\n",
       "</div>"
      ],
      "text/plain": [
       "    Customer ID  Invoice  Number of products  cancelled_order\n",
       "0      12346.00   491725                   1                0\n",
       "1      12346.00   491742                   1                0\n",
       "2      12346.00   491744                   1                0\n",
       "3      12346.00   492718                   1                0\n",
       "4      12346.00   492722                   1                0\n",
       "5      12346.00   493410                   1                0\n",
       "6      12346.00   493412                   1                0\n",
       "7      12346.00   494450                   1                0\n",
       "8      12346.00   495295                   1                0\n",
       "9      12346.00   499763                   5                0\n",
       "10     12346.00   513774                  19                0\n",
       "11     12346.00   541431                   1                0\n",
       "12     12346.00  C495800                   1                1\n",
       "13     12346.00  C514024                  10                1\n",
       "14     12346.00  C525099                   1                1"
      ]
     },
     "metadata": {},
     "output_type": "display_data"
    },
    {
     "name": "stdout",
     "output_type": "stream",
     "text": [
      "Number of orders cancelled: 7901/44876 (17.61%) \n"
     ]
    }
   ],
   "source": [
    "#now let us look at the transactions w.r.t the cancelled orders\n",
    "products_per_transaction['Invoice'] = products_per_transaction['Invoice'].apply(lambda X:str(X))\n",
    "products_per_transaction['cancelled_order'] = products_per_transaction['Invoice'].apply(lambda X:int('C' in X))\n",
    "display(products_per_transaction[:15])\n",
    "\n",
    "a = products_per_transaction['cancelled_order'].sum()\n",
    "b = products_per_transaction['cancelled_order'].shape[0]\n",
    "print('Number of orders cancelled: {}/{} ({:.2f}%) '.format(a, b, a/b*100))"
   ]
  },
  {
   "cell_type": "code",
   "execution_count": 14,
   "id": "5f048cec",
   "metadata": {},
   "outputs": [],
   "source": [
    "#17% of orders were cancelled, let us seek if there is any relations between the cancelled orders "
   ]
  },
  {
   "cell_type": "code",
   "execution_count": 15,
   "id": "3b6e8e62",
   "metadata": {},
   "outputs": [
    {
     "data": {
      "text/html": [
       "<div>\n",
       "<style scoped>\n",
       "    .dataframe tbody tr th:only-of-type {\n",
       "        vertical-align: middle;\n",
       "    }\n",
       "\n",
       "    .dataframe tbody tr th {\n",
       "        vertical-align: top;\n",
       "    }\n",
       "\n",
       "    .dataframe thead th {\n",
       "        text-align: right;\n",
       "    }\n",
       "</style>\n",
       "<table border=\"1\" class=\"dataframe\">\n",
       "  <thead>\n",
       "    <tr style=\"text-align: right;\">\n",
       "      <th></th>\n",
       "      <th>Invoice</th>\n",
       "      <th>StockCode</th>\n",
       "      <th>Description</th>\n",
       "      <th>Quantity</th>\n",
       "      <th>InvoiceDate</th>\n",
       "      <th>Price</th>\n",
       "      <th>Customer ID</th>\n",
       "      <th>Country</th>\n",
       "    </tr>\n",
       "  </thead>\n",
       "  <tbody>\n",
       "    <tr>\n",
       "      <th>253035</th>\n",
       "      <td>513774</td>\n",
       "      <td>22690</td>\n",
       "      <td>DOORMAT HOME SWEET HOME BLUE</td>\n",
       "      <td>1</td>\n",
       "      <td>2010-06-28 13:53:00</td>\n",
       "      <td>7.49</td>\n",
       "      <td>12346.00</td>\n",
       "      <td>United Kingdom</td>\n",
       "    </tr>\n",
       "    <tr>\n",
       "      <th>371779</th>\n",
       "      <td>C525274</td>\n",
       "      <td>TEST001</td>\n",
       "      <td>This is a test product.</td>\n",
       "      <td>-1</td>\n",
       "      <td>2010-10-04 16:33:00</td>\n",
       "      <td>4.50</td>\n",
       "      <td>12346.00</td>\n",
       "      <td>United Kingdom</td>\n",
       "    </tr>\n",
       "    <tr>\n",
       "      <th>61619</th>\n",
       "      <td>541431</td>\n",
       "      <td>23166</td>\n",
       "      <td>MEDIUM CERAMIC TOP STORAGE JAR</td>\n",
       "      <td>74215</td>\n",
       "      <td>2011-01-18 10:01:00</td>\n",
       "      <td>1.04</td>\n",
       "      <td>12346.00</td>\n",
       "      <td>United Kingdom</td>\n",
       "    </tr>\n",
       "    <tr>\n",
       "      <th>61624</th>\n",
       "      <td>C541433</td>\n",
       "      <td>23166</td>\n",
       "      <td>MEDIUM CERAMIC TOP STORAGE JAR</td>\n",
       "      <td>-74215</td>\n",
       "      <td>2011-01-18 10:17:00</td>\n",
       "      <td>1.04</td>\n",
       "      <td>12346.00</td>\n",
       "      <td>United Kingdom</td>\n",
       "    </tr>\n",
       "    <tr>\n",
       "      <th>255595</th>\n",
       "      <td>C514024</td>\n",
       "      <td>M</td>\n",
       "      <td>Manual</td>\n",
       "      <td>-1</td>\n",
       "      <td>2010-06-30 11:22:00</td>\n",
       "      <td>142.31</td>\n",
       "      <td>12346.00</td>\n",
       "      <td>United Kingdom</td>\n",
       "    </tr>\n",
       "    <tr>\n",
       "      <th>255594</th>\n",
       "      <td>C514024</td>\n",
       "      <td>M</td>\n",
       "      <td>Manual</td>\n",
       "      <td>-1</td>\n",
       "      <td>2010-06-30 11:22:00</td>\n",
       "      <td>31.78</td>\n",
       "      <td>12346.00</td>\n",
       "      <td>United Kingdom</td>\n",
       "    </tr>\n",
       "    <tr>\n",
       "      <th>255593</th>\n",
       "      <td>C514024</td>\n",
       "      <td>M</td>\n",
       "      <td>Manual</td>\n",
       "      <td>-4</td>\n",
       "      <td>2010-06-30 11:22:00</td>\n",
       "      <td>13.22</td>\n",
       "      <td>12346.00</td>\n",
       "      <td>United Kingdom</td>\n",
       "    </tr>\n",
       "    <tr>\n",
       "      <th>370048</th>\n",
       "      <td>C525099</td>\n",
       "      <td>D</td>\n",
       "      <td>Discount</td>\n",
       "      <td>-1</td>\n",
       "      <td>2010-10-04 09:54:00</td>\n",
       "      <td>1.00</td>\n",
       "      <td>12346.00</td>\n",
       "      <td>United Kingdom</td>\n",
       "    </tr>\n",
       "    <tr>\n",
       "      <th>107804</th>\n",
       "      <td>499763</td>\n",
       "      <td>15056P</td>\n",
       "      <td>EDWARDIAN PARASOL PINK</td>\n",
       "      <td>1</td>\n",
       "      <td>2010-03-02 13:08:00</td>\n",
       "      <td>5.95</td>\n",
       "      <td>12346.00</td>\n",
       "      <td>United Kingdom</td>\n",
       "    </tr>\n",
       "    <tr>\n",
       "      <th>255592</th>\n",
       "      <td>C514024</td>\n",
       "      <td>M</td>\n",
       "      <td>Manual</td>\n",
       "      <td>-1</td>\n",
       "      <td>2010-06-30 11:22:00</td>\n",
       "      <td>1.15</td>\n",
       "      <td>12346.00</td>\n",
       "      <td>United Kingdom</td>\n",
       "    </tr>\n",
       "    <tr>\n",
       "      <th>255590</th>\n",
       "      <td>C514024</td>\n",
       "      <td>M</td>\n",
       "      <td>Manual</td>\n",
       "      <td>-1</td>\n",
       "      <td>2010-06-30 11:22:00</td>\n",
       "      <td>25.88</td>\n",
       "      <td>12346.00</td>\n",
       "      <td>United Kingdom</td>\n",
       "    </tr>\n",
       "    <tr>\n",
       "      <th>255589</th>\n",
       "      <td>C514024</td>\n",
       "      <td>M</td>\n",
       "      <td>Manual</td>\n",
       "      <td>-1</td>\n",
       "      <td>2010-06-30 11:22:00</td>\n",
       "      <td>12.94</td>\n",
       "      <td>12346.00</td>\n",
       "      <td>United Kingdom</td>\n",
       "    </tr>\n",
       "    <tr>\n",
       "      <th>255588</th>\n",
       "      <td>C514024</td>\n",
       "      <td>M</td>\n",
       "      <td>Manual</td>\n",
       "      <td>-1</td>\n",
       "      <td>2010-06-30 11:22:00</td>\n",
       "      <td>4.66</td>\n",
       "      <td>12346.00</td>\n",
       "      <td>United Kingdom</td>\n",
       "    </tr>\n",
       "    <tr>\n",
       "      <th>253042</th>\n",
       "      <td>513774</td>\n",
       "      <td>48188</td>\n",
       "      <td>DOORMAT WELCOME PUPPIES</td>\n",
       "      <td>1</td>\n",
       "      <td>2010-06-28 13:53:00</td>\n",
       "      <td>7.49</td>\n",
       "      <td>12346.00</td>\n",
       "      <td>United Kingdom</td>\n",
       "    </tr>\n",
       "    <tr>\n",
       "      <th>255586</th>\n",
       "      <td>C514024</td>\n",
       "      <td>M</td>\n",
       "      <td>Manual</td>\n",
       "      <td>-1</td>\n",
       "      <td>2010-06-30 11:22:00</td>\n",
       "      <td>5.18</td>\n",
       "      <td>12346.00</td>\n",
       "      <td>United Kingdom</td>\n",
       "    </tr>\n",
       "  </tbody>\n",
       "</table>\n",
       "</div>"
      ],
      "text/plain": [
       "        Invoice StockCode                     Description  Quantity  \\\n",
       "253035   513774     22690   DOORMAT HOME SWEET HOME BLUE          1   \n",
       "371779  C525274   TEST001         This is a test product.        -1   \n",
       "61619    541431     23166  MEDIUM CERAMIC TOP STORAGE JAR     74215   \n",
       "61624   C541433     23166  MEDIUM CERAMIC TOP STORAGE JAR    -74215   \n",
       "255595  C514024         M                          Manual        -1   \n",
       "255594  C514024         M                          Manual        -1   \n",
       "255593  C514024         M                          Manual        -4   \n",
       "370048  C525099         D                        Discount        -1   \n",
       "107804   499763    15056P          EDWARDIAN PARASOL PINK         1   \n",
       "255592  C514024         M                          Manual        -1   \n",
       "255590  C514024         M                          Manual        -1   \n",
       "255589  C514024         M                          Manual        -1   \n",
       "255588  C514024         M                          Manual        -1   \n",
       "253042   513774     48188         DOORMAT WELCOME PUPPIES         1   \n",
       "255586  C514024         M                          Manual        -1   \n",
       "\n",
       "               InvoiceDate  Price  Customer ID         Country  \n",
       "253035 2010-06-28 13:53:00   7.49     12346.00  United Kingdom  \n",
       "371779 2010-10-04 16:33:00   4.50     12346.00  United Kingdom  \n",
       "61619  2011-01-18 10:01:00   1.04     12346.00  United Kingdom  \n",
       "61624  2011-01-18 10:17:00   1.04     12346.00  United Kingdom  \n",
       "255595 2010-06-30 11:22:00 142.31     12346.00  United Kingdom  \n",
       "255594 2010-06-30 11:22:00  31.78     12346.00  United Kingdom  \n",
       "255593 2010-06-30 11:22:00  13.22     12346.00  United Kingdom  \n",
       "370048 2010-10-04 09:54:00   1.00     12346.00  United Kingdom  \n",
       "107804 2010-03-02 13:08:00   5.95     12346.00  United Kingdom  \n",
       "255592 2010-06-30 11:22:00   1.15     12346.00  United Kingdom  \n",
       "255590 2010-06-30 11:22:00  25.88     12346.00  United Kingdom  \n",
       "255589 2010-06-30 11:22:00  12.94     12346.00  United Kingdom  \n",
       "255588 2010-06-30 11:22:00   4.66     12346.00  United Kingdom  \n",
       "253042 2010-06-28 13:53:00   7.49     12346.00  United Kingdom  \n",
       "255586 2010-06-30 11:22:00   5.18     12346.00  United Kingdom  "
      ]
     },
     "metadata": {},
     "output_type": "display_data"
    }
   ],
   "source": [
    "display(df.sort_values('Customer ID')[:15])\n"
   ]
  },
  {
   "cell_type": "code",
   "execution_count": 16,
   "id": "83469e39",
   "metadata": {},
   "outputs": [],
   "source": [
    "#in many of these orders for example in the 3rd and 4th rows,\n",
    "#everything is the same except for the quantity, Invoice (4th has C i.e. Cancelled) and time in the Invoice date\n",
    "#this might explain the negative quantities"
   ]
  },
  {
   "cell_type": "markdown",
   "id": "d378a36a",
   "metadata": {},
   "source": [
    "### We must remove cancelled orders now "
   ]
  },
  {
   "cell_type": "code",
   "execution_count": 17,
   "id": "8b88c885",
   "metadata": {},
   "outputs": [
    {
     "name": "stdout",
     "output_type": "stream",
     "text": [
      "No of orders that had discount and had negative quantity: 172\n",
      "        Invoice StockCode Description  Quantity         InvoiceDate   Price  \\\n",
      "735     C489535         D    Discount        -1 2009-12-01 12:11:00    9.00   \n",
      "736     C489535         D    Discount        -1 2009-12-01 12:11:00   19.00   \n",
      "24675   C491428         D    Discount        -1 2009-12-10 20:23:00    9.10   \n",
      "29414   C491845         D    Discount        -1 2009-12-14 14:54:00    1.59   \n",
      "29958   C491962         D    Discount        -1 2009-12-14 16:38:00    0.59   \n",
      "39127   C492693         D    Discount        -1 2009-12-17 18:47:00    6.85   \n",
      "44782   C493373         D    Discount        -1 2009-12-23 11:22:00   64.37   \n",
      "62231   C494909         D    Discount       -30 2010-01-19 16:45:00    0.40   \n",
      "62232   C494909         D    Discount       -30 2010-01-19 16:45:00    0.13   \n",
      "62962   C494984         D    Discount        -1 2010-01-20 11:12:00   70.00   \n",
      "71812   C495911         D    Discount        -1 2010-01-27 12:48:00   19.88   \n",
      "73012   C495961         D    Discount      -150 2010-01-28 10:08:00    0.55   \n",
      "73327   C496009         D    Discount        -1 2010-01-28 12:41:00   28.50   \n",
      "78541   C496515         D    Discount        -1 2010-02-02 11:58:00   13.00   \n",
      "83395   C497158         D    Discount      -190 2010-02-05 16:27:00    2.35   \n",
      "87050   C497505         D    Discount        -1 2010-02-10 11:25:00   41.12   \n",
      "95554   C498420         D    Discount        -1 2010-02-18 16:25:00  947.08   \n",
      "95578   C498422         D    Discount        -1 2010-02-18 16:55:00   62.00   \n",
      "125372  C501342         D    Discount       -12 2010-03-16 10:43:00    0.50   \n",
      "129377  C501692         D    Discount        -1 2010-03-18 17:26:00    7.63   \n",
      "139778  C502769         D    Discount        -1 2010-03-26 14:21:00   18.17   \n",
      "139913  C502793         D    Discount        -1 2010-03-26 15:21:00   23.17   \n",
      "139977  C502797         D    Discount       -18 2010-03-26 16:10:00    2.10   \n",
      "176556  C506151         D    Discount        -1 2010-04-27 17:06:00   19.35   \n",
      "179088  C506382         D    Discount        -1 2010-04-29 12:21:00   18.31   \n",
      "180582  C506485         D    Discount        -1 2010-04-30 10:37:00  216.45   \n",
      "187584  C507222         D    Discount        -1 2010-05-06 19:28:00   48.00   \n",
      "220967  C510832         D    Discount        -1 2010-06-03 20:14:00    4.77   \n",
      "220968  C510832         D    Discount        -1 2010-06-03 20:14:00   59.29   \n",
      "222558  C511028         D    Discount        -1 2010-06-06 10:33:00   56.90   \n",
      "222920  C511043         D    Discount        -1 2010-06-06 11:23:00   23.62   \n",
      "223524  C511054         D    Discount        -1 2010-06-06 12:16:00   80.70   \n",
      "225862  C511264         D    Discount        -1 2010-06-07 12:45:00   35.10   \n",
      "226189  C511272         D    Discount        -1 2010-06-07 13:06:00   43.17   \n",
      "236960  C512323         D    Discount        -1 2010-06-15 09:39:00   20.00   \n",
      "248621  C513423         D    Discount        -1 2010-06-24 12:51:00   16.55   \n",
      "257757  C514303         D    Discount        -1 2010-07-01 12:45:00   18.42   \n",
      "265778  C515101         D    Discount        -1 2010-07-08 12:01:00    8.95   \n",
      "280510  C516722         D    Discount        -1 2010-07-22 12:30:00   15.00   \n",
      "285954  C517231         D    Discount      -120 2010-07-27 13:34:00    0.27   \n",
      "286414  C517262         D    Discount        -1 2010-07-27 17:22:00    6.00   \n",
      "286415  C517263         D    Discount        -1 2010-07-27 17:35:00  142.00   \n",
      "287066  C517335         D    Discount        -1 2010-07-28 13:17:00    9.38   \n",
      "294239  C518044         D    Discount        -1 2010-08-04 11:33:00   47.97   \n",
      "299154  C518534         D    Discount        -1 2010-08-09 16:25:00    8.92   \n",
      "300897  C518678         D    Discount        -1 2010-08-10 16:55:00    2.70   \n",
      "301438  C518758         D    Discount        -1 2010-08-11 13:24:00   75.17   \n",
      "312284  C519807         D    Discount      -192 2010-08-20 12:48:00    1.00   \n",
      "312286  C519809         D    Discount      -192 2010-08-20 12:51:00    0.01   \n",
      "314821  C520038         D    Discount        -1 2010-08-23 13:32:00   12.35   \n",
      "316129  C520177         D    Discount        -1 2010-08-24 13:34:00   18.00   \n",
      "318602  C520413         D    Discount        -1 2010-08-26 09:38:00  591.43   \n",
      "338877  C522438         D    Discount        -1 2010-09-14 14:10:00    9.90   \n",
      "338897  C522441         D    Discount        -1 2010-09-14 14:17:00    9.09   \n",
      "341741  C522755         D    Discount      -324 2010-09-16 13:35:00    0.50   \n",
      "342818  C522857         D    Discount        -1 2010-09-17 11:29:00   90.00   \n",
      "355993  C523987         D    Discount      -250 2010-09-26 14:12:00    0.10   \n",
      "355994  C523987         D    Discount      -156 2010-09-26 14:12:00    0.19   \n",
      "355995  C523987         D    Discount      -128 2010-09-26 14:12:00    0.42   \n",
      "363517  C524575         D    Discount        -1 2010-09-29 16:02:00   28.52   \n",
      "365920  C524867         D    Discount        -1 2010-10-01 09:33:00  413.40   \n",
      "370048  C525099         D    Discount        -1 2010-10-04 09:54:00    1.00   \n",
      "375180  C525626         D    Discount        -1 2010-10-06 12:04:00   12.16   \n",
      "386471  C526537         D    Discount        -1 2010-10-12 11:29:00    3.39   \n",
      "386758  C526630         D    Discount        -1 2010-10-12 13:01:00   11.30   \n",
      "392470  C527108         D    Discount        -1 2010-10-14 17:17:00  350.60   \n",
      "394198  C527270         D    Discount        -1 2010-10-15 13:03:00   14.08   \n",
      "396900  C527405         D    Discount        -1 2010-10-17 14:35:00   69.38   \n",
      "399358  C527516         D    Discount        -1 2010-10-18 13:03:00  619.92   \n",
      "399790  C527600         D    Discount        -1 2010-10-18 13:41:00  112.84   \n",
      "406172  C528309         D    Discount        -1 2010-10-21 12:12:00   10.10   \n",
      "414635  C528976         D    Discount        -1 2010-10-26 10:56:00   14.35   \n",
      "419941  C529572         D    Discount        -1 2010-10-28 18:54:00   13.89   \n",
      "427656  C530282         D    Discount        -1 2010-11-02 12:08:00    8.20   \n",
      "430409  C530507         D    Discount        -1 2010-11-03 11:50:00   20.28   \n",
      "435916  C531005         D    Discount        -1 2010-11-05 11:37:00   10.08   \n",
      "444210  C531749         D    Discount        -1 2010-11-09 13:04:00   23.19   \n",
      "449629  C532136         D    Discount        -1 2010-11-11 11:04:00   62.10   \n",
      "450818  C532255         D    Discount        -1 2010-11-11 12:50:00 1269.51   \n",
      "455132  C532621         D    Discount        -1 2010-11-12 15:31:00  107.52   \n",
      "469240  C533587         D    Discount        -1 2010-11-18 11:52:00   19.02   \n",
      "473919  C534024         D    Discount        -1 2010-11-19 15:00:00   39.04   \n",
      "479348  C534386         D    Discount        -1 2010-11-22 12:56:00   36.03   \n",
      "486259  C534845         D    Discount        -1 2010-11-24 13:25:00  114.75   \n",
      "488796  C535246         D    Discount        -1 2010-11-25 12:39:00   16.30   \n",
      "494413  C535663         D    Discount        -1 2010-11-28 11:41:00   11.86   \n",
      "494414  C535663         D    Discount        -1 2010-11-28 11:41:00   13.89   \n",
      "494415  C535663         D    Discount        -1 2010-11-28 11:41:00    6.13   \n",
      "494416  C535663         D    Discount        -1 2010-11-28 11:41:00    1.00   \n",
      "494417  C535663         D    Discount        -1 2010-11-28 11:41:00    7.84   \n",
      "494418  C535663         D    Discount        -1 2010-11-28 11:41:00    5.67   \n",
      "503073  C536379         D    Discount        -1 2010-12-01 09:41:00   27.50   \n",
      "511955  C537164         D    Discount        -1 2010-12-05 13:21:00   29.29   \n",
      "517436  C537597         D    Discount        -1 2010-12-07 12:34:00  281.00   \n",
      "522330  C537857         D    Discount        -1 2010-12-08 16:00:00  267.12   \n",
      "141     C536379         D    Discount        -1 2010-12-01 09:41:00   27.50   \n",
      "9038    C537164         D    Discount        -1 2010-12-05 13:21:00   29.29   \n",
      "14498   C537597         D    Discount        -1 2010-12-07 12:34:00  281.00   \n",
      "19392   C537857         D    Discount        -1 2010-12-08 16:00:00  267.12   \n",
      "31134   C538897         D    Discount        -1 2010-12-15 09:14:00    5.76   \n",
      "31135   C538897         D    Discount        -1 2010-12-15 09:14:00   42.50   \n",
      "31663   C539003         D    Discount        -1 2010-12-15 12:35:00   26.93   \n",
      "38609   C539589         D    Discount        -1 2010-12-20 13:14:00   13.88   \n",
      "44405   C540171         D    Discount        -1 2011-01-05 12:26:00   22.97   \n",
      "88032   C543752         D    Discount        -1 2011-02-11 14:12:00   64.27   \n",
      "88071   C543758         D    Discount        -1 2011-02-11 15:07:00   65.91   \n",
      "88211   C543789         D    Discount        -1 2011-02-11 17:10:00   84.80   \n",
      "89282   C543840         D    Discount        -1 2011-02-14 11:19:00   70.01   \n",
      "108071  C545476         D    Discount        -1 2011-03-03 11:05:00   30.38   \n",
      "108088  C545478         D    Discount      -720 2011-03-03 11:08:00    0.01   \n",
      "115091  C546106         D    Discount        -1 2011-03-09 12:21:00    9.87   \n",
      "140555  C548411         D    Discount        -1 2011-03-31 10:36:00  162.24   \n",
      "140795  C548462         D    Discount        -1 2011-03-31 12:11:00   14.52   \n",
      "150591  C549452         D    Discount        -1 2011-04-08 14:17:00 1867.86   \n",
      "169541  C551190         D    Discount        -1 2011-04-27 10:22:00  120.00   \n",
      "169834  C551265         D    Discount        -1 2011-04-27 12:06:00   11.76   \n",
      "181009  C552423         D    Discount        -1 2011-05-09 12:44:00   11.84   \n",
      "182729  C552569         D    Discount      -240 2011-05-10 12:06:00    0.03   \n",
      "183138  C552650         D    Discount       -18 2011-05-10 14:03:00    1.45   \n",
      "192807  C553482         D    Discount        -1 2011-05-17 12:07:00    9.84   \n",
      "194727  C553665         D    Discount        -1 2011-05-18 12:16:00   15.96   \n",
      "196362  C553841         D    Discount       -48 2011-05-19 12:19:00    0.20   \n",
      "203526  C554516         D    Discount        -1 2011-05-24 16:50:00   13.88   \n",
      "214671  C555597         D    Discount        -1 2011-06-06 10:19:00   42.00   \n",
      "218253  C556037         D    Discount        -1 2011-06-08 12:37:00   20.92   \n",
      "221712  C556265         D    Discount        -1 2011-06-09 19:24:00   28.04   \n",
      "226396  C556796         D    Discount       -96 2011-06-14 14:40:00    0.70   \n",
      "227481  C556877         D    Discount        -1 2011-06-15 12:00:00  129.90   \n",
      "227705  C556904         D    Discount        -1 2011-06-15 12:56:00   14.42   \n",
      "238153  C557927         D    Discount        -1 2011-06-23 14:56:00   10.00   \n",
      "263482  C559992         D    Discount        -1 2011-07-14 12:30:00   13.99   \n",
      "273505  C560842         D    Discount        -1 2011-07-21 12:25:00   12.15   \n",
      "273935  C560869         D    Discount        -1 2011-07-21 14:32:00   66.24   \n",
      "279033  C561225         D    Discount        -1 2011-07-26 10:06:00   45.60   \n",
      "280503  C561464         D    Discount        -1 2011-07-27 12:40:00   26.05   \n",
      "295575  C562796         D    Discount        -1 2011-08-09 14:27:00   64.00   \n",
      "300951  C563225         D    Discount        -1 2011-08-14 14:35:00  434.51   \n",
      "304661  C563592         D    Discount        -1 2011-08-18 06:12:00    9.60   \n",
      "304662  C563593         D    Discount        -1 2011-08-18 06:13:00  206.40   \n",
      "313360  C564487         D    Discount        -1 2011-08-25 14:07:00   11.52   \n",
      "317545  C564812         D    Discount        -1 2011-08-30 11:45:00   16.67   \n",
      "317546  C564812         D    Discount        -1 2011-08-30 11:45:00   15.07   \n",
      "317547  C564812         D    Discount        -1 2011-08-30 11:45:00   10.06   \n",
      "317548  C564812         D    Discount        -1 2011-08-30 11:45:00   13.00   \n",
      "319865  C564909         D    Discount        -1 2011-08-31 12:29:00   66.17   \n",
      "319866  C564909         D    Discount        -1 2011-08-31 12:29:00   33.75   \n",
      "320697  C565075         D    Discount        -1 2011-08-31 17:25:00   36.30   \n",
      "320698  C565075         D    Discount        -1 2011-08-31 17:25:00   38.39   \n",
      "320704  C565078         D    Discount        -1 2011-08-31 17:45:00   57.60   \n",
      "323492  C565313         D    Discount        -1 2011-09-02 12:41:00   14.50   \n",
      "324132  C565390         D    Discount        -1 2011-09-02 16:23:00  110.43   \n",
      "332535  C566078         D    Discount        -1 2011-09-09 09:38:00   45.33   \n",
      "337787  C566475         D    Discount        -1 2011-09-12 18:26:00   20.75   \n",
      "340223  C566613         D    Discount        -1 2011-09-13 17:17:00   15.00   \n",
      "340224  C566614         D    Discount        -1 2011-09-13 17:28:00  102.24   \n",
      "354737  C567896         D    Discount        -1 2011-09-22 15:59:00   18.62   \n",
      "380685  C569829         D    Discount        -1 2011-10-06 12:37:00   16.74   \n",
      "380686  C569829         D    Discount        -1 2011-10-06 12:37:00   16.07   \n",
      "422376  C573081         D    Discount        -1 2011-10-27 14:20:00   23.27   \n",
      "436717  C574238         D    Discount        -1 2011-11-03 12:39:00   11.84   \n",
      "436718  C574238         D    Discount        -1 2011-11-03 12:39:00   39.70   \n",
      "436719  C574238         D    Discount        -1 2011-11-03 12:39:00   11.59   \n",
      "459263  C575872         D    Discount        -1 2011-11-11 12:52:00   97.14   \n",
      "465290  C576218         D    Discount        -1 2011-11-14 12:57:00  183.00   \n",
      "465525  C576244         D    Discount        -1 2011-11-14 13:40:00    6.00   \n",
      "479866  C577227         D    Discount        -1 2011-11-18 12:06:00   27.26   \n",
      "479867  C577227         D    Discount        -1 2011-11-18 12:06:00   14.88   \n",
      "479868  C577227         D    Discount        -1 2011-11-18 12:06:00   19.82   \n",
      "479869  C577227         D    Discount        -1 2011-11-18 12:06:00   16.76   \n",
      "493613  C578239         D    Discount        -1 2011-11-23 12:29:00   26.33   \n",
      "516221  C579884         D    Discount        -1 2011-11-30 17:34:00   20.53   \n",
      "516455  C579908         D    Discount        -1 2011-12-01 08:49:00   28.68   \n",
      "\n",
      "        Customer ID         Country  \n",
      "735        15299.00  United Kingdom  \n",
      "736        15299.00  United Kingdom  \n",
      "24675      15494.00  United Kingdom  \n",
      "29414           NaN  United Kingdom  \n",
      "29958      13206.00  United Kingdom  \n",
      "39127      13408.00  United Kingdom  \n",
      "44782      15044.00  United Kingdom  \n",
      "62231      12931.00  United Kingdom  \n",
      "62232      12931.00  United Kingdom  \n",
      "62962      17949.00  United Kingdom  \n",
      "71812      15911.00  United Kingdom  \n",
      "73012      17949.00  United Kingdom  \n",
      "73327      17841.00  United Kingdom  \n",
      "78541      17377.00  United Kingdom  \n",
      "83395      18102.00  United Kingdom  \n",
      "87050      14593.00  United Kingdom  \n",
      "95554      14646.00     Netherlands  \n",
      "95578      13694.00  United Kingdom  \n",
      "125372     16029.00  United Kingdom  \n",
      "129377     13798.00  United Kingdom  \n",
      "139778     14994.00  United Kingdom  \n",
      "139913     13564.00  United Kingdom  \n",
      "139977     15607.00  United Kingdom  \n",
      "176556     13694.00  United Kingdom  \n",
      "179088     13694.00  United Kingdom  \n",
      "180582     15498.00  United Kingdom  \n",
      "187584     13027.00  United Kingdom  \n",
      "220967     17581.00  United Kingdom  \n",
      "220968     17581.00  United Kingdom  \n",
      "222558     14441.00  United Kingdom  \n",
      "222920     14878.00  United Kingdom  \n",
      "223524     17841.00  United Kingdom  \n",
      "225862     16655.00  United Kingdom  \n",
      "226189     14159.00  United Kingdom  \n",
      "236960     14911.00            EIRE  \n",
      "248621     14527.00  United Kingdom  \n",
      "257757     14527.00  United Kingdom  \n",
      "265778     14527.00  United Kingdom  \n",
      "280510     14527.00  United Kingdom  \n",
      "285954     16422.00  United Kingdom  \n",
      "286414     16422.00  United Kingdom  \n",
      "286415     16029.00  United Kingdom  \n",
      "287066     14527.00  United Kingdom  \n",
      "294239     18277.00  United Kingdom  \n",
      "299154     14527.00  United Kingdom  \n",
      "300897          NaN  United Kingdom  \n",
      "301438     14911.00            EIRE  \n",
      "312284     16422.00  United Kingdom  \n",
      "312286     16422.00  United Kingdom  \n",
      "314821     14527.00  United Kingdom  \n",
      "316129     13693.00  United Kingdom  \n",
      "318602     15498.00  United Kingdom  \n",
      "338877     15901.00  United Kingdom  \n",
      "338897     15901.00  United Kingdom  \n",
      "341741     18102.00  United Kingdom  \n",
      "342818          NaN  United Kingdom  \n",
      "355993     12931.00  United Kingdom  \n",
      "355994     12931.00  United Kingdom  \n",
      "355995     12931.00  United Kingdom  \n",
      "363517     13408.00  United Kingdom  \n",
      "365920     14912.00           Italy  \n",
      "370048     12346.00  United Kingdom  \n",
      "375180     14527.00  United Kingdom  \n",
      "386471     16422.00  United Kingdom  \n",
      "386758     14527.00  United Kingdom  \n",
      "392470     17389.00  United Kingdom  \n",
      "394198     14527.00  United Kingdom  \n",
      "396900     14800.00  United Kingdom  \n",
      "399358     18102.00  United Kingdom  \n",
      "399790     14646.00     Netherlands  \n",
      "406172     14527.00  United Kingdom  \n",
      "414635     17858.00  United Kingdom  \n",
      "419941     14527.00  United Kingdom  \n",
      "427656     14527.00  United Kingdom  \n",
      "430409     14912.00           Italy  \n",
      "435916     14527.00  United Kingdom  \n",
      "444210     14527.00  United Kingdom  \n",
      "449629     14088.00  United Kingdom  \n",
      "450818     14088.00  United Kingdom  \n",
      "455132     16013.00  United Kingdom  \n",
      "469240     14527.00  United Kingdom  \n",
      "473919     17581.00  United Kingdom  \n",
      "479348     14527.00  United Kingdom  \n",
      "486259     14646.00     Netherlands  \n",
      "488796     14527.00  United Kingdom  \n",
      "494413     14527.00  United Kingdom  \n",
      "494414     14527.00  United Kingdom  \n",
      "494415     14527.00  United Kingdom  \n",
      "494416     14527.00  United Kingdom  \n",
      "494417     14527.00  United Kingdom  \n",
      "494418     14527.00  United Kingdom  \n",
      "503073     14527.00  United Kingdom  \n",
      "511955     14527.00  United Kingdom  \n",
      "517436     15498.00  United Kingdom  \n",
      "522330     17340.00  United Kingdom  \n",
      "141        14527.00  United Kingdom  \n",
      "9038       14527.00  United Kingdom  \n",
      "14498      15498.00  United Kingdom  \n",
      "19392      17340.00  United Kingdom  \n",
      "31134      16422.00  United Kingdom  \n",
      "31135      16422.00  United Kingdom  \n",
      "31663      14527.00  United Kingdom  \n",
      "38609      14527.00  United Kingdom  \n",
      "44405      14527.00  United Kingdom  \n",
      "88032      14031.00  United Kingdom  \n",
      "88071      15299.00  United Kingdom  \n",
      "88211      17450.00  United Kingdom  \n",
      "89282      14527.00  United Kingdom  \n",
      "108071     14527.00  United Kingdom  \n",
      "108088     16422.00  United Kingdom  \n",
      "115091     14527.00  United Kingdom  \n",
      "140555     13316.00  United Kingdom  \n",
      "140795     14527.00  United Kingdom  \n",
      "150591     17940.00  United Kingdom  \n",
      "169541     17940.00  United Kingdom  \n",
      "169834     14527.00  United Kingdom  \n",
      "181009     14527.00  United Kingdom  \n",
      "182729     12901.00  United Kingdom  \n",
      "183138     16672.00  United Kingdom  \n",
      "192807     14527.00  United Kingdom  \n",
      "194727     14527.00  United Kingdom  \n",
      "196362     16029.00  United Kingdom  \n",
      "203526     14527.00  United Kingdom  \n",
      "214671     15796.00  United Kingdom  \n",
      "218253     14527.00  United Kingdom  \n",
      "221712     16684.00  United Kingdom  \n",
      "226396     16013.00  United Kingdom  \n",
      "227481     15498.00  United Kingdom  \n",
      "227705     14527.00  United Kingdom  \n",
      "238153     16029.00  United Kingdom  \n",
      "263482     14527.00  United Kingdom  \n",
      "273505     14527.00  United Kingdom  \n",
      "273935     12830.00  United Kingdom  \n",
      "279033     16029.00  United Kingdom  \n",
      "280503     14527.00  United Kingdom  \n",
      "295575     13694.00  United Kingdom  \n",
      "300951     14911.00            EIRE  \n",
      "304661     16029.00  United Kingdom  \n",
      "304662     14646.00     Netherlands  \n",
      "313360     15838.00  United Kingdom  \n",
      "317545     14527.00  United Kingdom  \n",
      "317546     14527.00  United Kingdom  \n",
      "317547     14527.00  United Kingdom  \n",
      "317548     14527.00  United Kingdom  \n",
      "319865     15498.00  United Kingdom  \n",
      "319866     15498.00  United Kingdom  \n",
      "320697     13408.00  United Kingdom  \n",
      "320698     13408.00  United Kingdom  \n",
      "320704     16422.00  United Kingdom  \n",
      "323492     14527.00  United Kingdom  \n",
      "324132     13408.00  United Kingdom  \n",
      "332535     13137.00  United Kingdom  \n",
      "337787     14527.00  United Kingdom  \n",
      "340223     16029.00  United Kingdom  \n",
      "340224     16029.00  United Kingdom  \n",
      "354737     14527.00  United Kingdom  \n",
      "380685     14527.00  United Kingdom  \n",
      "380686     14527.00  United Kingdom  \n",
      "422376     14527.00  United Kingdom  \n",
      "436717     13408.00  United Kingdom  \n",
      "436718     13408.00  United Kingdom  \n",
      "436719     13408.00  United Kingdom  \n",
      "459263     13408.00  United Kingdom  \n",
      "465290     13694.00  United Kingdom  \n",
      "465525     18167.00  United Kingdom  \n",
      "479866     14527.00  United Kingdom  \n",
      "479867     14527.00  United Kingdom  \n",
      "479868     14527.00  United Kingdom  \n",
      "479869     14527.00  United Kingdom  \n",
      "493613     14912.00           Italy  \n",
      "516221     14527.00  United Kingdom  \n",
      "516455     14527.00  United Kingdom  \n"
     ]
    }
   ],
   "source": [
    "x=df.loc[(df['Description'] == 'Discount')& (df['Quantity'] < 0)]\n",
    "print('No of orders that had discount and had negative quantity: '+ str(len(x)))\n",
    "print(x)"
   ]
  },
  {
   "cell_type": "code",
   "execution_count": 18,
   "id": "3ea709d5",
   "metadata": {},
   "outputs": [],
   "source": [
    "#creating a copy of our dataset which would have been cleaned from duplicate cancelled orders\n",
    "clean_df = df.copy(deep = True)\n"
   ]
  },
  {
   "cell_type": "code",
   "execution_count": 19,
   "id": "f182aa92",
   "metadata": {},
   "outputs": [],
   "source": [
    "clean_df = clean_df.loc[(clean_df['Quantity'] > 0)]"
   ]
  },
  {
   "cell_type": "code",
   "execution_count": 20,
   "id": "ec7b4baf",
   "metadata": {},
   "outputs": [],
   "source": [
    "clean_df = clean_df.loc[(clean_df['Price'] >= 0)]"
   ]
  },
  {
   "cell_type": "code",
   "execution_count": 21,
   "id": "d46afe46",
   "metadata": {},
   "outputs": [
    {
     "data": {
      "text/plain": [
       "(1044416, 8)"
      ]
     },
     "execution_count": 21,
     "metadata": {},
     "output_type": "execute_result"
    }
   ],
   "source": [
    "clean_df.shape"
   ]
  },
  {
   "cell_type": "code",
   "execution_count": 22,
   "id": "c2bc8799",
   "metadata": {},
   "outputs": [],
   "source": [
    "# Creating a column to view the total price of every purchase\n",
    "clean_df['Total_Price'] = clean_df['Price'] * (clean_df['Quantity'])"
   ]
  },
  {
   "cell_type": "code",
   "execution_count": 23,
   "id": "5e252e17",
   "metadata": {},
   "outputs": [],
   "source": [
    "#Since every row of the dataframe indicates prizes for a single kind of product. Hence, orders are split on several lines.\n",
    "#Lets us collect all the purchases made during a single order to recover the total order prize:"
   ]
  },
  {
   "cell_type": "code",
   "execution_count": 24,
   "id": "66e79a47",
   "metadata": {},
   "outputs": [
    {
     "data": {
      "text/html": [
       "<div>\n",
       "<style scoped>\n",
       "    .dataframe tbody tr th:only-of-type {\n",
       "        vertical-align: middle;\n",
       "    }\n",
       "\n",
       "    .dataframe tbody tr th {\n",
       "        vertical-align: top;\n",
       "    }\n",
       "\n",
       "    .dataframe thead th {\n",
       "        text-align: right;\n",
       "    }\n",
       "</style>\n",
       "<table border=\"1\" class=\"dataframe\">\n",
       "  <thead>\n",
       "    <tr style=\"text-align: right;\">\n",
       "      <th></th>\n",
       "      <th>Customer ID</th>\n",
       "      <th>Invoice</th>\n",
       "      <th>Cart Price</th>\n",
       "      <th>InvoiceDate</th>\n",
       "    </tr>\n",
       "  </thead>\n",
       "  <tbody>\n",
       "    <tr>\n",
       "      <th>0</th>\n",
       "      <td>12346.00</td>\n",
       "      <td>491725</td>\n",
       "      <td>45.00</td>\n",
       "      <td>2009-12-14 08:34:00.000000000</td>\n",
       "    </tr>\n",
       "    <tr>\n",
       "      <th>1</th>\n",
       "      <td>12346.00</td>\n",
       "      <td>491742</td>\n",
       "      <td>22.50</td>\n",
       "      <td>2009-12-14 11:00:00.000000000</td>\n",
       "    </tr>\n",
       "    <tr>\n",
       "      <th>2</th>\n",
       "      <td>12346.00</td>\n",
       "      <td>491744</td>\n",
       "      <td>22.50</td>\n",
       "      <td>2009-12-14 11:02:00.000000000</td>\n",
       "    </tr>\n",
       "    <tr>\n",
       "      <th>3</th>\n",
       "      <td>12346.00</td>\n",
       "      <td>492718</td>\n",
       "      <td>22.50</td>\n",
       "      <td>2009-12-18 10:47:00.000000000</td>\n",
       "    </tr>\n",
       "    <tr>\n",
       "      <th>4</th>\n",
       "      <td>12346.00</td>\n",
       "      <td>492722</td>\n",
       "      <td>1.00</td>\n",
       "      <td>2009-12-18 10:55:00.000000000</td>\n",
       "    </tr>\n",
       "    <tr>\n",
       "      <th>5</th>\n",
       "      <td>12346.00</td>\n",
       "      <td>493410</td>\n",
       "      <td>22.50</td>\n",
       "      <td>2010-01-04 09:24:00.000000000</td>\n",
       "    </tr>\n",
       "    <tr>\n",
       "      <th>6</th>\n",
       "      <td>12346.00</td>\n",
       "      <td>493412</td>\n",
       "      <td>22.50</td>\n",
       "      <td>2010-01-04 09:53:00.000000000</td>\n",
       "    </tr>\n",
       "    <tr>\n",
       "      <th>7</th>\n",
       "      <td>12346.00</td>\n",
       "      <td>494450</td>\n",
       "      <td>22.50</td>\n",
       "      <td>2010-01-14 13:50:00.000000000</td>\n",
       "    </tr>\n",
       "    <tr>\n",
       "      <th>8</th>\n",
       "      <td>12346.00</td>\n",
       "      <td>495295</td>\n",
       "      <td>22.50</td>\n",
       "      <td>2010-01-22 13:30:00.000000000</td>\n",
       "    </tr>\n",
       "    <tr>\n",
       "      <th>9</th>\n",
       "      <td>12346.00</td>\n",
       "      <td>499763</td>\n",
       "      <td>27.05</td>\n",
       "      <td>2010-03-02 13:08:00.000000000</td>\n",
       "    </tr>\n",
       "    <tr>\n",
       "      <th>10</th>\n",
       "      <td>12346.00</td>\n",
       "      <td>513774</td>\n",
       "      <td>142.31</td>\n",
       "      <td>2010-06-28 13:53:00.000000256</td>\n",
       "    </tr>\n",
       "    <tr>\n",
       "      <th>11</th>\n",
       "      <td>12346.00</td>\n",
       "      <td>541431</td>\n",
       "      <td>77183.60</td>\n",
       "      <td>2011-01-18 10:01:00.000000000</td>\n",
       "    </tr>\n",
       "    <tr>\n",
       "      <th>19</th>\n",
       "      <td>12347.00</td>\n",
       "      <td>581180</td>\n",
       "      <td>224.82</td>\n",
       "      <td>2011-12-07 15:52:00.000000000</td>\n",
       "    </tr>\n",
       "    <tr>\n",
       "      <th>18</th>\n",
       "      <td>12347.00</td>\n",
       "      <td>573511</td>\n",
       "      <td>1294.32</td>\n",
       "      <td>2011-10-31 12:25:00.000001280</td>\n",
       "    </tr>\n",
       "    <tr>\n",
       "      <th>16</th>\n",
       "      <td>12347.00</td>\n",
       "      <td>556201</td>\n",
       "      <td>382.52</td>\n",
       "      <td>2011-06-09 13:01:00.000000256</td>\n",
       "    </tr>\n",
       "    <tr>\n",
       "      <th>17</th>\n",
       "      <td>12347.00</td>\n",
       "      <td>562032</td>\n",
       "      <td>584.91</td>\n",
       "      <td>2011-08-02 08:48:00.000000000</td>\n",
       "    </tr>\n",
       "    <tr>\n",
       "      <th>14</th>\n",
       "      <td>12347.00</td>\n",
       "      <td>542237</td>\n",
       "      <td>475.39</td>\n",
       "      <td>2011-01-26 14:29:59.999999744</td>\n",
       "    </tr>\n",
       "    <tr>\n",
       "      <th>13</th>\n",
       "      <td>12347.00</td>\n",
       "      <td>537626</td>\n",
       "      <td>1423.58</td>\n",
       "      <td>2010-12-07 14:57:00.000001024</td>\n",
       "    </tr>\n",
       "    <tr>\n",
       "      <th>12</th>\n",
       "      <td>12347.00</td>\n",
       "      <td>529924</td>\n",
       "      <td>611.53</td>\n",
       "      <td>2010-10-31 14:20:00.000000000</td>\n",
       "    </tr>\n",
       "    <tr>\n",
       "      <th>15</th>\n",
       "      <td>12347.00</td>\n",
       "      <td>549222</td>\n",
       "      <td>636.25</td>\n",
       "      <td>2011-04-07 10:42:59.999999232</td>\n",
       "    </tr>\n",
       "  </tbody>\n",
       "</table>\n",
       "</div>"
      ],
      "text/plain": [
       "    Customer ID  Invoice  Cart Price                   InvoiceDate\n",
       "0      12346.00   491725       45.00 2009-12-14 08:34:00.000000000\n",
       "1      12346.00   491742       22.50 2009-12-14 11:00:00.000000000\n",
       "2      12346.00   491744       22.50 2009-12-14 11:02:00.000000000\n",
       "3      12346.00   492718       22.50 2009-12-18 10:47:00.000000000\n",
       "4      12346.00   492722        1.00 2009-12-18 10:55:00.000000000\n",
       "5      12346.00   493410       22.50 2010-01-04 09:24:00.000000000\n",
       "6      12346.00   493412       22.50 2010-01-04 09:53:00.000000000\n",
       "7      12346.00   494450       22.50 2010-01-14 13:50:00.000000000\n",
       "8      12346.00   495295       22.50 2010-01-22 13:30:00.000000000\n",
       "9      12346.00   499763       27.05 2010-03-02 13:08:00.000000000\n",
       "10     12346.00   513774      142.31 2010-06-28 13:53:00.000000256\n",
       "11     12346.00   541431    77183.60 2011-01-18 10:01:00.000000000\n",
       "19     12347.00   581180      224.82 2011-12-07 15:52:00.000000000\n",
       "18     12347.00   573511     1294.32 2011-10-31 12:25:00.000001280\n",
       "16     12347.00   556201      382.52 2011-06-09 13:01:00.000000256\n",
       "17     12347.00   562032      584.91 2011-08-02 08:48:00.000000000\n",
       "14     12347.00   542237      475.39 2011-01-26 14:29:59.999999744\n",
       "13     12347.00   537626     1423.58 2010-12-07 14:57:00.000001024\n",
       "12     12347.00   529924      611.53 2010-10-31 14:20:00.000000000\n",
       "15     12347.00   549222      636.25 2011-04-07 10:42:59.999999232"
      ]
     },
     "execution_count": 24,
     "metadata": {},
     "output_type": "execute_result"
    }
   ],
   "source": [
    "#grouping orders by Customer_ID and InvoiceNo \n",
    "temp = clean_df.groupby(by=['Customer ID', 'Invoice'], as_index=False)['Total_Price'].sum()\n",
    "cart_price = temp.rename(columns = {'Total_Price':'Cart Price'})\n",
    "\n",
    "#grouping by Customer ID and invoice and Locating orders made on the same timestamp\n",
    "clean_df['InvoiceDate_int'] = clean_df['InvoiceDate'].astype('int64')\n",
    "temp = clean_df.groupby(by=['Customer ID', 'Invoice'], as_index=False)['InvoiceDate_int'].mean()\n",
    "clean_df.drop('InvoiceDate_int', axis = 1, inplace = True)\n",
    "cart_price.loc[:, 'InvoiceDate'] = pd.to_datetime(temp['InvoiceDate_int'])\n",
    "\n",
    "#visualizing orders and the total \n",
    "car_price = cart_price[cart_price['Cart Price'] > 0]\n",
    "cart_price.sort_values('Customer ID')[:20]"
   ]
  },
  {
   "cell_type": "code",
   "execution_count": 25,
   "id": "ed57dc4f",
   "metadata": {},
   "outputs": [
    {
     "data": {
      "image/png": "[encoded data removed]",
      "text/plain": [
       "<Figure size 792x432 with 1 Axes>"
      ]
     },
     "metadata": {},
     "output_type": "display_data"
    }
   ],
   "source": [
    "#distribution of orders with respect to the total order amount\n",
    "price_range = [0, 50, 100, 200, 500, 1000, 5000, 50000]\n",
    "count_price = []\n",
    "for i, price in enumerate(price_range):\n",
    "    if i == 0: continue\n",
    "    val = cart_price[(cart_price['Cart Price'] < price) &\n",
    "                       (cart_price['Cart Price'] > price_range[i-1])]['Cart Price'].count()\n",
    "    count_price.append(val)\n",
    "\n",
    "# Visualizing number of purchases per Cart price       \n",
    "plt.rc('font', weight='bold')\n",
    "f, ax = plt.subplots(figsize=(11, 6))\n",
    "colors = ['yellowgreen', 'gold', 'wheat', 'c', 'violet', 'royalblue','firebrick']\n",
    "labels = [ '{}<.<{}'.format(price_range[i-1], s) for i,s in enumerate(price_range) if i != 0]\n",
    "sizes  = count_price\n",
    "explode = [0.0 if sizes[i] < 100 else 0.0 for i in range(len(sizes))]\n",
    "ax.pie(sizes, explode = explode, labels=labels, colors = colors,\n",
    "       autopct = lambda x:'{:1.0f}%'.format(x) if x > 1 else '',\n",
    "       shadow = False, startangle=0)\n",
    "ax.axis('equal')\n",
    "f.text(0.5, 1.01, \"Visualizing number of purchases per cart price\", ha='center', fontsize =20);"
   ]
  },
  {
   "cell_type": "markdown",
   "id": "5af8569f",
   "metadata": {},
   "source": [
    "##### As we can clearly see that 43% of the total purchases have a total cart price in between 200 and 500 currency and around 60% of the total orders have a total cart price more than 200 currency "
   ]
  },
  {
   "cell_type": "markdown",
   "id": "d499dddb",
   "metadata": {},
   "source": [
    "##  Distribution of orders for different Customers"
   ]
  },
  {
   "cell_type": "code",
   "execution_count": 26,
   "id": "a3fe810e",
   "metadata": {},
   "outputs": [
    {
     "data": {
      "image/png": "[encoded data removed]",
      "text/plain": [
       "<Figure size 1080x432 with 1 Axes>"
      ]
     },
     "metadata": {
      "needs_background": "light"
     },
     "output_type": "display_data"
    }
   ],
   "source": [
    "orders = clean_df.groupby(by=['Customer ID'], as_index=False)['Invoice'].count()\n",
    "\n",
    "plt.subplots(figsize=(15,6))\n",
    "plt.plot(orders['Customer ID'], orders['Invoice'])\n",
    "plt.xlabel('Customer ID')\n",
    "plt.ylabel('Number of Orders')\n",
    "plt.title('Number of Orders for different Customers')\n",
    "plt.show()"
   ]
  },
  {
   "cell_type": "code",
   "execution_count": 27,
   "id": "7aad600c",
   "metadata": {},
   "outputs": [
    {
     "name": "stdout",
     "output_type": "stream",
     "text": [
      "The TOP 5 customers with most number of orders...\n"
     ]
    },
    {
     "data": {
      "text/html": [
       "<div>\n",
       "<style scoped>\n",
       "    .dataframe tbody tr th:only-of-type {\n",
       "        vertical-align: middle;\n",
       "    }\n",
       "\n",
       "    .dataframe tbody tr th {\n",
       "        vertical-align: top;\n",
       "    }\n",
       "\n",
       "    .dataframe thead th {\n",
       "        text-align: right;\n",
       "    }\n",
       "</style>\n",
       "<table border=\"1\" class=\"dataframe\">\n",
       "  <thead>\n",
       "    <tr style=\"text-align: right;\">\n",
       "      <th></th>\n",
       "      <th>Customer ID</th>\n",
       "      <th>Invoice</th>\n",
       "    </tr>\n",
       "  </thead>\n",
       "  <tbody>\n",
       "    <tr>\n",
       "      <th>5436</th>\n",
       "      <td>17841.00</td>\n",
       "      <td>12890</td>\n",
       "    </tr>\n",
       "    <tr>\n",
       "      <th>2541</th>\n",
       "      <td>14911.00</td>\n",
       "      <td>11247</td>\n",
       "    </tr>\n",
       "    <tr>\n",
       "      <th>400</th>\n",
       "      <td>12748.00</td>\n",
       "      <td>7230</td>\n",
       "    </tr>\n",
       "    <tr>\n",
       "      <th>2239</th>\n",
       "      <td>14606.00</td>\n",
       "      <td>6566</td>\n",
       "    </tr>\n",
       "    <tr>\n",
       "      <th>1732</th>\n",
       "      <td>14096.00</td>\n",
       "      <td>5111</td>\n",
       "    </tr>\n",
       "  </tbody>\n",
       "</table>\n",
       "</div>"
      ],
      "text/plain": [
       "      Customer ID  Invoice\n",
       "5436     17841.00    12890\n",
       "2541     14911.00    11247\n",
       "400      12748.00     7230\n",
       "2239     14606.00     6566\n",
       "1732     14096.00     5111"
      ]
     },
     "execution_count": 27,
     "metadata": {},
     "output_type": "execute_result"
    }
   ],
   "source": [
    "print('The TOP 5 customers with most number of orders...')\n",
    "orders.sort_values(by='Invoice', ascending=False).head()"
   ]
  },
  {
   "cell_type": "markdown",
   "id": "17ddc4d8",
   "metadata": {},
   "source": [
    "## Exploring Patterns for Each country"
   ]
  },
  {
   "cell_type": "markdown",
   "id": "9af88916",
   "metadata": {},
   "source": [
    "#### grouping orders by country"
   ]
  },
  {
   "cell_type": "code",
   "execution_count": 28,
   "id": "fc29fec4",
   "metadata": {},
   "outputs": [
    {
     "data": {
      "image/png": "[encoded data removed]",
      "text/plain": [
       "<Figure size 1080x576 with 1 Axes>"
      ]
     },
     "metadata": {
      "needs_background": "light"
     },
     "output_type": "display_data"
    }
   ],
   "source": [
    "group_orders_by_country = clean_df.groupby('Country')['Invoice'].count().sort_values()\n",
    "\n",
    "plt.figure(figsize=(15,8))\n",
    "\n",
    "sns.barplot(x=group_orders_by_country,y=group_orders_by_country.index, palette='RdBu')\n",
    "\n",
    "plt.title('Number of Orders for different Countries')\n",
    "plt.show()"
   ]
  },
  {
   "cell_type": "code",
   "execution_count": 29,
   "id": "383027f3",
   "metadata": {},
   "outputs": [
    {
     "data": {
      "image/png": "[encoded data removed]",
      "text/plain": [
       "<Figure size 1080x576 with 1 Axes>"
      ]
     },
     "metadata": {
      "needs_background": "light"
     },
     "output_type": "display_data"
    }
   ],
   "source": [
    "group_orders_by_country = clean_df.groupby('Country')['Invoice'].count().sort_values()\n",
    "del group_orders_by_country['United Kingdom'] \n",
    "\n",
    "plt.figure(figsize=(15,8))\n",
    "\n",
    "sns.barplot(x=group_orders_by_country,y=group_orders_by_country.index, palette='RdBu')\n",
    "\n",
    "plt.title('Number of Orders for different Countries')\n",
    "plt.show()"
   ]
  },
  {
   "cell_type": "code",
   "execution_count": 30,
   "id": "e4f812cd",
   "metadata": {},
   "outputs": [
    {
     "data": {
      "image/png": "[encoded data removed]",
      "text/plain": [
       "<Figure size 1080x576 with 1 Axes>"
      ]
     },
     "metadata": {
      "needs_background": "light"
     },
     "output_type": "display_data"
    }
   ],
   "source": [
    "group_orders_by_country = clean_df.groupby('Country')['Price'].count().sort_values()\n",
    "\n",
    "plt.figure(figsize=(15,8))\n",
    "\n",
    "sns.barplot(x=group_orders_by_country,y=group_orders_by_country.index, palette='RdBu')\n",
    "\n",
    "plt.title('Total price for different Countries')\n",
    "plt.show()"
   ]
  },
  {
   "cell_type": "code",
   "execution_count": 31,
   "id": "dfc224e0",
   "metadata": {},
   "outputs": [
    {
     "data": {
      "image/png": "[encoded data removed]",
      "text/plain": [
       "<Figure size 1080x576 with 1 Axes>"
      ]
     },
     "metadata": {
      "needs_background": "light"
     },
     "output_type": "display_data"
    }
   ],
   "source": [
    "group_orders_by_country = clean_df.groupby('Country')['Price'].count().sort_values()\n",
    "del group_orders_by_country['United Kingdom'] \n",
    "\n",
    "plt.figure(figsize=(15,8))\n",
    "\n",
    "sns.barplot(x=group_orders_by_country,y=group_orders_by_country.index, palette='RdBu')\n",
    "\n",
    "plt.title('Total price for different Countries')\n",
    "plt.show()"
   ]
  },
  {
   "cell_type": "markdown",
   "id": "9a4f2445",
   "metadata": {},
   "source": [
    "# Creating Year_month, Month, Day, Hour columns from DateTime"
   ]
  },
  {
   "cell_type": "code",
   "execution_count": 32,
   "id": "286263b6",
   "metadata": {},
   "outputs": [],
   "source": [
    "clean_df.insert(loc=2, column='Year_Month', value=clean_df['InvoiceDate'].map(lambda x: 100*x.year + x.month))\n",
    "clean_df.insert(loc=3, column='Month', value=clean_df.InvoiceDate.dt.month)\n",
    "# +1 to make Monday=1.....until Sunday=7\n",
    "clean_df.insert(loc=4, column='Day', value=(clean_df.InvoiceDate.dt.dayofweek)+1)\n",
    "clean_df.insert(loc=5, column='Hour', value=clean_df.InvoiceDate.dt.hour)"
   ]
  },
  {
   "cell_type": "code",
   "execution_count": 33,
   "id": "0e11c53e",
   "metadata": {},
   "outputs": [
    {
     "data": {
      "text/html": [
       "<div>\n",
       "<style scoped>\n",
       "    .dataframe tbody tr th:only-of-type {\n",
       "        vertical-align: middle;\n",
       "    }\n",
       "\n",
       "    .dataframe tbody tr th {\n",
       "        vertical-align: top;\n",
       "    }\n",
       "\n",
       "    .dataframe thead th {\n",
       "        text-align: right;\n",
       "    }\n",
       "</style>\n",
       "<table border=\"1\" class=\"dataframe\">\n",
       "  <thead>\n",
       "    <tr style=\"text-align: right;\">\n",
       "      <th></th>\n",
       "      <th>Invoice</th>\n",
       "      <th>StockCode</th>\n",
       "      <th>Year_Month</th>\n",
       "      <th>Month</th>\n",
       "      <th>Day</th>\n",
       "      <th>Hour</th>\n",
       "      <th>Description</th>\n",
       "      <th>Quantity</th>\n",
       "      <th>InvoiceDate</th>\n",
       "      <th>Price</th>\n",
       "      <th>Customer ID</th>\n",
       "      <th>Country</th>\n",
       "      <th>Total_Price</th>\n",
       "    </tr>\n",
       "  </thead>\n",
       "  <tbody>\n",
       "    <tr>\n",
       "      <th>0</th>\n",
       "      <td>489434</td>\n",
       "      <td>85048</td>\n",
       "      <td>200912</td>\n",
       "      <td>12</td>\n",
       "      <td>2</td>\n",
       "      <td>7</td>\n",
       "      <td>15CM CHRISTMAS GLASS BALL 20 LIGHTS</td>\n",
       "      <td>12</td>\n",
       "      <td>2009-12-01 07:45:00</td>\n",
       "      <td>6.95</td>\n",
       "      <td>13085.00</td>\n",
       "      <td>United Kingdom</td>\n",
       "      <td>83.40</td>\n",
       "    </tr>\n",
       "    <tr>\n",
       "      <th>1</th>\n",
       "      <td>489434</td>\n",
       "      <td>79323P</td>\n",
       "      <td>200912</td>\n",
       "      <td>12</td>\n",
       "      <td>2</td>\n",
       "      <td>7</td>\n",
       "      <td>PINK CHERRY LIGHTS</td>\n",
       "      <td>12</td>\n",
       "      <td>2009-12-01 07:45:00</td>\n",
       "      <td>6.75</td>\n",
       "      <td>13085.00</td>\n",
       "      <td>United Kingdom</td>\n",
       "      <td>81.00</td>\n",
       "    </tr>\n",
       "    <tr>\n",
       "      <th>2</th>\n",
       "      <td>489434</td>\n",
       "      <td>79323W</td>\n",
       "      <td>200912</td>\n",
       "      <td>12</td>\n",
       "      <td>2</td>\n",
       "      <td>7</td>\n",
       "      <td>WHITE CHERRY LIGHTS</td>\n",
       "      <td>12</td>\n",
       "      <td>2009-12-01 07:45:00</td>\n",
       "      <td>6.75</td>\n",
       "      <td>13085.00</td>\n",
       "      <td>United Kingdom</td>\n",
       "      <td>81.00</td>\n",
       "    </tr>\n",
       "    <tr>\n",
       "      <th>3</th>\n",
       "      <td>489434</td>\n",
       "      <td>22041</td>\n",
       "      <td>200912</td>\n",
       "      <td>12</td>\n",
       "      <td>2</td>\n",
       "      <td>7</td>\n",
       "      <td>RECORD FRAME 7\" SINGLE SIZE</td>\n",
       "      <td>48</td>\n",
       "      <td>2009-12-01 07:45:00</td>\n",
       "      <td>2.10</td>\n",
       "      <td>13085.00</td>\n",
       "      <td>United Kingdom</td>\n",
       "      <td>100.80</td>\n",
       "    </tr>\n",
       "    <tr>\n",
       "      <th>4</th>\n",
       "      <td>489434</td>\n",
       "      <td>21232</td>\n",
       "      <td>200912</td>\n",
       "      <td>12</td>\n",
       "      <td>2</td>\n",
       "      <td>7</td>\n",
       "      <td>STRAWBERRY CERAMIC TRINKET BOX</td>\n",
       "      <td>24</td>\n",
       "      <td>2009-12-01 07:45:00</td>\n",
       "      <td>1.25</td>\n",
       "      <td>13085.00</td>\n",
       "      <td>United Kingdom</td>\n",
       "      <td>30.00</td>\n",
       "    </tr>\n",
       "  </tbody>\n",
       "</table>\n",
       "</div>"
      ],
      "text/plain": [
       "  Invoice StockCode  Year_Month  Month  Day  Hour  \\\n",
       "0  489434     85048      200912     12    2     7   \n",
       "1  489434    79323P      200912     12    2     7   \n",
       "2  489434    79323W      200912     12    2     7   \n",
       "3  489434     22041      200912     12    2     7   \n",
       "4  489434     21232      200912     12    2     7   \n",
       "\n",
       "                           Description  Quantity         InvoiceDate  Price  \\\n",
       "0  15CM CHRISTMAS GLASS BALL 20 LIGHTS        12 2009-12-01 07:45:00   6.95   \n",
       "1                   PINK CHERRY LIGHTS        12 2009-12-01 07:45:00   6.75   \n",
       "2                  WHITE CHERRY LIGHTS        12 2009-12-01 07:45:00   6.75   \n",
       "3         RECORD FRAME 7\" SINGLE SIZE         48 2009-12-01 07:45:00   2.10   \n",
       "4       STRAWBERRY CERAMIC TRINKET BOX        24 2009-12-01 07:45:00   1.25   \n",
       "\n",
       "   Customer ID         Country  Total_Price  \n",
       "0     13085.00  United Kingdom        83.40  \n",
       "1     13085.00  United Kingdom        81.00  \n",
       "2     13085.00  United Kingdom        81.00  \n",
       "3     13085.00  United Kingdom       100.80  \n",
       "4     13085.00  United Kingdom        30.00  "
      ]
     },
     "execution_count": 33,
     "metadata": {},
     "output_type": "execute_result"
    }
   ],
   "source": [
    "clean_df.head()"
   ]
  },
  {
   "cell_type": "code",
   "execution_count": 34,
   "id": "352c2f0c",
   "metadata": {},
   "outputs": [
    {
     "data": {
      "text/html": [
       "<div>\n",
       "<style scoped>\n",
       "    .dataframe tbody tr th:only-of-type {\n",
       "        vertical-align: middle;\n",
       "    }\n",
       "\n",
       "    .dataframe tbody tr th {\n",
       "        vertical-align: top;\n",
       "    }\n",
       "\n",
       "    .dataframe thead th {\n",
       "        text-align: right;\n",
       "    }\n",
       "</style>\n",
       "<table border=\"1\" class=\"dataframe\">\n",
       "  <thead>\n",
       "    <tr style=\"text-align: right;\">\n",
       "      <th></th>\n",
       "      <th>Invoice</th>\n",
       "      <th>StockCode</th>\n",
       "      <th>Year_Month</th>\n",
       "      <th>Month</th>\n",
       "      <th>Day</th>\n",
       "      <th>Hour</th>\n",
       "      <th>Description</th>\n",
       "      <th>Quantity</th>\n",
       "      <th>InvoiceDate</th>\n",
       "      <th>Price</th>\n",
       "      <th>Customer ID</th>\n",
       "      <th>Country</th>\n",
       "      <th>Total_Price</th>\n",
       "      <th>Week</th>\n",
       "    </tr>\n",
       "  </thead>\n",
       "  <tbody>\n",
       "    <tr>\n",
       "      <th>0</th>\n",
       "      <td>489434</td>\n",
       "      <td>85048</td>\n",
       "      <td>200912</td>\n",
       "      <td>12</td>\n",
       "      <td>2</td>\n",
       "      <td>7</td>\n",
       "      <td>15CM CHRISTMAS GLASS BALL 20 LIGHTS</td>\n",
       "      <td>12</td>\n",
       "      <td>2009-12-01 07:45:00</td>\n",
       "      <td>6.95</td>\n",
       "      <td>13085.00</td>\n",
       "      <td>United Kingdom</td>\n",
       "      <td>83.40</td>\n",
       "      <td>48</td>\n",
       "    </tr>\n",
       "    <tr>\n",
       "      <th>1</th>\n",
       "      <td>489434</td>\n",
       "      <td>79323P</td>\n",
       "      <td>200912</td>\n",
       "      <td>12</td>\n",
       "      <td>2</td>\n",
       "      <td>7</td>\n",
       "      <td>PINK CHERRY LIGHTS</td>\n",
       "      <td>12</td>\n",
       "      <td>2009-12-01 07:45:00</td>\n",
       "      <td>6.75</td>\n",
       "      <td>13085.00</td>\n",
       "      <td>United Kingdom</td>\n",
       "      <td>81.00</td>\n",
       "      <td>48</td>\n",
       "    </tr>\n",
       "    <tr>\n",
       "      <th>2</th>\n",
       "      <td>489434</td>\n",
       "      <td>79323W</td>\n",
       "      <td>200912</td>\n",
       "      <td>12</td>\n",
       "      <td>2</td>\n",
       "      <td>7</td>\n",
       "      <td>WHITE CHERRY LIGHTS</td>\n",
       "      <td>12</td>\n",
       "      <td>2009-12-01 07:45:00</td>\n",
       "      <td>6.75</td>\n",
       "      <td>13085.00</td>\n",
       "      <td>United Kingdom</td>\n",
       "      <td>81.00</td>\n",
       "      <td>48</td>\n",
       "    </tr>\n",
       "    <tr>\n",
       "      <th>3</th>\n",
       "      <td>489434</td>\n",
       "      <td>22041</td>\n",
       "      <td>200912</td>\n",
       "      <td>12</td>\n",
       "      <td>2</td>\n",
       "      <td>7</td>\n",
       "      <td>RECORD FRAME 7\" SINGLE SIZE</td>\n",
       "      <td>48</td>\n",
       "      <td>2009-12-01 07:45:00</td>\n",
       "      <td>2.10</td>\n",
       "      <td>13085.00</td>\n",
       "      <td>United Kingdom</td>\n",
       "      <td>100.80</td>\n",
       "      <td>48</td>\n",
       "    </tr>\n",
       "    <tr>\n",
       "      <th>4</th>\n",
       "      <td>489434</td>\n",
       "      <td>21232</td>\n",
       "      <td>200912</td>\n",
       "      <td>12</td>\n",
       "      <td>2</td>\n",
       "      <td>7</td>\n",
       "      <td>STRAWBERRY CERAMIC TRINKET BOX</td>\n",
       "      <td>24</td>\n",
       "      <td>2009-12-01 07:45:00</td>\n",
       "      <td>1.25</td>\n",
       "      <td>13085.00</td>\n",
       "      <td>United Kingdom</td>\n",
       "      <td>30.00</td>\n",
       "      <td>48</td>\n",
       "    </tr>\n",
       "  </tbody>\n",
       "</table>\n",
       "</div>"
      ],
      "text/plain": [
       "  Invoice StockCode  Year_Month  Month  Day  Hour  \\\n",
       "0  489434     85048      200912     12    2     7   \n",
       "1  489434    79323P      200912     12    2     7   \n",
       "2  489434    79323W      200912     12    2     7   \n",
       "3  489434     22041      200912     12    2     7   \n",
       "4  489434     21232      200912     12    2     7   \n",
       "\n",
       "                           Description  Quantity         InvoiceDate  Price  \\\n",
       "0  15CM CHRISTMAS GLASS BALL 20 LIGHTS        12 2009-12-01 07:45:00   6.95   \n",
       "1                   PINK CHERRY LIGHTS        12 2009-12-01 07:45:00   6.75   \n",
       "2                  WHITE CHERRY LIGHTS        12 2009-12-01 07:45:00   6.75   \n",
       "3         RECORD FRAME 7\" SINGLE SIZE         48 2009-12-01 07:45:00   2.10   \n",
       "4       STRAWBERRY CERAMIC TRINKET BOX        24 2009-12-01 07:45:00   1.25   \n",
       "\n",
       "   Customer ID         Country  Total_Price Week  \n",
       "0     13085.00  United Kingdom        83.40   48  \n",
       "1     13085.00  United Kingdom        81.00   48  \n",
       "2     13085.00  United Kingdom        81.00   48  \n",
       "3     13085.00  United Kingdom       100.80   48  \n",
       "4     13085.00  United Kingdom        30.00   48  "
      ]
     },
     "execution_count": 34,
     "metadata": {},
     "output_type": "execute_result"
    }
   ],
   "source": [
    "clean_df['Week'] = clean_df['InvoiceDate'].apply(lambda x: x.strftime('%W'))\n",
    "\n",
    "clean_df.head()"
   ]
  },
  {
   "cell_type": "code",
   "execution_count": 35,
   "id": "ff184857",
   "metadata": {},
   "outputs": [],
   "source": [
    "clean_df.rename(index=str, columns={'Day':'Weekday'}, inplace=True)"
   ]
  },
  {
   "cell_type": "code",
   "execution_count": 36,
   "id": "b24fa4ba",
   "metadata": {},
   "outputs": [],
   "source": [
    "clean_df['Day'] = clean_df['InvoiceDate'].apply(lambda x: x.strftime('%d'))\n"
   ]
  },
  {
   "cell_type": "code",
   "execution_count": 37,
   "id": "fa88cd49",
   "metadata": {},
   "outputs": [
    {
     "name": "stdout",
     "output_type": "stream",
     "text": [
      "['Invoice', 'StockCode', 'Year_Month', 'Month', 'Weekday', 'Hour', 'Description', 'Quantity', 'InvoiceDate', 'Price', 'Customer ID', 'Country', 'Total_Price', 'Week', 'Day']\n"
     ]
    }
   ],
   "source": [
    "cols = list(clean_df.columns.values)\n",
    "print(cols)"
   ]
  },
  {
   "cell_type": "code",
   "execution_count": 38,
   "id": "1142f2d2",
   "metadata": {},
   "outputs": [],
   "source": [
    "clean_df = clean_df[['Invoice', 'StockCode', 'Year_Month', 'Month', 'Week', 'Day', 'Weekday', 'Hour', 'Description', 'Quantity', 'InvoiceDate', 'Price', 'Customer ID', 'Country', 'Total_Price']\n",
    "]"
   ]
  },
  {
   "cell_type": "markdown",
   "id": "349a32de",
   "metadata": {},
   "source": [
    "#### Frequency of orders by Year_month"
   ]
  },
  {
   "cell_type": "code",
   "execution_count": 39,
   "id": "a089995b",
   "metadata": {},
   "outputs": [
    {
     "data": {
      "image/png": "[encoded data removed]",
      "text/plain": [
       "<Figure size 3240x432 with 1 Axes>"
      ]
     },
     "metadata": {
      "needs_background": "light"
     },
     "output_type": "display_data"
    }
   ],
   "source": [
    "ax = clean_df.groupby('Invoice')['Year_Month'].unique().value_counts().sort_index().plot(kind = 'bar',figsize=(45,6), color = color[1])\n",
    "ax.set_xlabel('Month_Year',fontsize=20)\n",
    "ax.set_ylabel('Number of Orders',fontsize=20)\n",
    "ax.set_title('Number of orders for different Months (1st Dec 2009 - 9th Dec 2011)',fontsize=20)\n",
    "ax.set_xticklabels(('Dec_09','Jan_10','Feb_10','Mar_10','Apr_10','May_10','Jun_10','July_10','Aug_10','Sep_10','Oct_10','Nov_10','Dec_10','Jan_11','Feb_11','Mar_11','Apr_11','May_11','Jun_11','July_11','Aug_11','Sep_11','Oct_11','Nov_11','Dec_11'), rotation='horizontal', fontsize=25)\n",
    "plt.show()\n",
    "\n"
   ]
  },
  {
   "cell_type": "code",
   "execution_count": 40,
   "id": "3683173c",
   "metadata": {},
   "outputs": [
    {
     "data": {
      "image/png": "[encoded data removed]",
      "text/plain": [
       "<Figure size 1080x432 with 1 Axes>"
      ]
     },
     "metadata": {
      "needs_background": "light"
     },
     "output_type": "display_data"
    }
   ],
   "source": [
    "ax = clean_df.groupby('Invoice')['Month'].unique().value_counts().sort_index().plot(kind = 'line',figsize=(15,6))\n",
    "ax.set_xlabel('Month',fontsize=20)\n",
    "ax.set_ylabel('Number of Orders',fontsize=20)\n",
    "ax.set_title('Number of orders for different Months (1st Dec 2009 - 9th Dec 2011)',fontsize=20)\n",
    "#ax.set_xticklabels(('Dec_09','Jan_10','Feb_10','Mar_10','Apr_10','May_10','Jun_10','July_10','Aug_10','Sep_10','Oct_10','Nov_10','Dec_10','Jan_11','Feb_11','Mar_11','Apr_11','May_11','Jun_11','July_11','Aug_11','Sep_11','Oct_11','Nov_11','Dec_11'), rotation='horizontal', fontsize=25)\n",
    "plt.show()"
   ]
  },
  {
   "cell_type": "markdown",
   "id": "dd8fb4c2",
   "metadata": {},
   "source": [
    "## The most popular month of the year is November"
   ]
  },
  {
   "cell_type": "code",
   "execution_count": 41,
   "id": "b3628e69",
   "metadata": {},
   "outputs": [
    {
     "data": {
      "text/html": [
       "<div>\n",
       "<style scoped>\n",
       "    .dataframe tbody tr th:only-of-type {\n",
       "        vertical-align: middle;\n",
       "    }\n",
       "\n",
       "    .dataframe tbody tr th {\n",
       "        vertical-align: top;\n",
       "    }\n",
       "\n",
       "    .dataframe thead th {\n",
       "        text-align: right;\n",
       "    }\n",
       "</style>\n",
       "<table border=\"1\" class=\"dataframe\">\n",
       "  <thead>\n",
       "    <tr style=\"text-align: right;\">\n",
       "      <th></th>\n",
       "      <th>Invoice</th>\n",
       "      <th>StockCode</th>\n",
       "      <th>Year_Month</th>\n",
       "      <th>Month</th>\n",
       "      <th>Week</th>\n",
       "      <th>Day</th>\n",
       "      <th>Weekday</th>\n",
       "      <th>Hour</th>\n",
       "      <th>Description</th>\n",
       "      <th>Quantity</th>\n",
       "      <th>InvoiceDate</th>\n",
       "      <th>Price</th>\n",
       "      <th>Customer ID</th>\n",
       "      <th>Country</th>\n",
       "      <th>Total_Price</th>\n",
       "    </tr>\n",
       "  </thead>\n",
       "  <tbody>\n",
       "    <tr>\n",
       "      <th>0</th>\n",
       "      <td>489434</td>\n",
       "      <td>85048</td>\n",
       "      <td>200912</td>\n",
       "      <td>12</td>\n",
       "      <td>48</td>\n",
       "      <td>01</td>\n",
       "      <td>2</td>\n",
       "      <td>7</td>\n",
       "      <td>15CM CHRISTMAS GLASS BALL 20 LIGHTS</td>\n",
       "      <td>12</td>\n",
       "      <td>2009-12-01 07:45:00</td>\n",
       "      <td>6.95</td>\n",
       "      <td>13085.00</td>\n",
       "      <td>United Kingdom</td>\n",
       "      <td>83.40</td>\n",
       "    </tr>\n",
       "    <tr>\n",
       "      <th>1</th>\n",
       "      <td>489434</td>\n",
       "      <td>79323P</td>\n",
       "      <td>200912</td>\n",
       "      <td>12</td>\n",
       "      <td>48</td>\n",
       "      <td>01</td>\n",
       "      <td>2</td>\n",
       "      <td>7</td>\n",
       "      <td>PINK CHERRY LIGHTS</td>\n",
       "      <td>12</td>\n",
       "      <td>2009-12-01 07:45:00</td>\n",
       "      <td>6.75</td>\n",
       "      <td>13085.00</td>\n",
       "      <td>United Kingdom</td>\n",
       "      <td>81.00</td>\n",
       "    </tr>\n",
       "    <tr>\n",
       "      <th>2</th>\n",
       "      <td>489434</td>\n",
       "      <td>79323W</td>\n",
       "      <td>200912</td>\n",
       "      <td>12</td>\n",
       "      <td>48</td>\n",
       "      <td>01</td>\n",
       "      <td>2</td>\n",
       "      <td>7</td>\n",
       "      <td>WHITE CHERRY LIGHTS</td>\n",
       "      <td>12</td>\n",
       "      <td>2009-12-01 07:45:00</td>\n",
       "      <td>6.75</td>\n",
       "      <td>13085.00</td>\n",
       "      <td>United Kingdom</td>\n",
       "      <td>81.00</td>\n",
       "    </tr>\n",
       "    <tr>\n",
       "      <th>3</th>\n",
       "      <td>489434</td>\n",
       "      <td>22041</td>\n",
       "      <td>200912</td>\n",
       "      <td>12</td>\n",
       "      <td>48</td>\n",
       "      <td>01</td>\n",
       "      <td>2</td>\n",
       "      <td>7</td>\n",
       "      <td>RECORD FRAME 7\" SINGLE SIZE</td>\n",
       "      <td>48</td>\n",
       "      <td>2009-12-01 07:45:00</td>\n",
       "      <td>2.10</td>\n",
       "      <td>13085.00</td>\n",
       "      <td>United Kingdom</td>\n",
       "      <td>100.80</td>\n",
       "    </tr>\n",
       "    <tr>\n",
       "      <th>4</th>\n",
       "      <td>489434</td>\n",
       "      <td>21232</td>\n",
       "      <td>200912</td>\n",
       "      <td>12</td>\n",
       "      <td>48</td>\n",
       "      <td>01</td>\n",
       "      <td>2</td>\n",
       "      <td>7</td>\n",
       "      <td>STRAWBERRY CERAMIC TRINKET BOX</td>\n",
       "      <td>24</td>\n",
       "      <td>2009-12-01 07:45:00</td>\n",
       "      <td>1.25</td>\n",
       "      <td>13085.00</td>\n",
       "      <td>United Kingdom</td>\n",
       "      <td>30.00</td>\n",
       "    </tr>\n",
       "  </tbody>\n",
       "</table>\n",
       "</div>"
      ],
      "text/plain": [
       "  Invoice StockCode  Year_Month  Month Week Day  Weekday  Hour  \\\n",
       "0  489434     85048      200912     12   48  01        2     7   \n",
       "1  489434    79323P      200912     12   48  01        2     7   \n",
       "2  489434    79323W      200912     12   48  01        2     7   \n",
       "3  489434     22041      200912     12   48  01        2     7   \n",
       "4  489434     21232      200912     12   48  01        2     7   \n",
       "\n",
       "                           Description  Quantity         InvoiceDate  Price  \\\n",
       "0  15CM CHRISTMAS GLASS BALL 20 LIGHTS        12 2009-12-01 07:45:00   6.95   \n",
       "1                   PINK CHERRY LIGHTS        12 2009-12-01 07:45:00   6.75   \n",
       "2                  WHITE CHERRY LIGHTS        12 2009-12-01 07:45:00   6.75   \n",
       "3         RECORD FRAME 7\" SINGLE SIZE         48 2009-12-01 07:45:00   2.10   \n",
       "4       STRAWBERRY CERAMIC TRINKET BOX        24 2009-12-01 07:45:00   1.25   \n",
       "\n",
       "   Customer ID         Country  Total_Price  \n",
       "0     13085.00  United Kingdom        83.40  \n",
       "1     13085.00  United Kingdom        81.00  \n",
       "2     13085.00  United Kingdom        81.00  \n",
       "3     13085.00  United Kingdom       100.80  \n",
       "4     13085.00  United Kingdom        30.00  "
      ]
     },
     "execution_count": 41,
     "metadata": {},
     "output_type": "execute_result"
    }
   ],
   "source": [
    "#No of orders per day\n",
    "clean_df.head()"
   ]
  },
  {
   "cell_type": "code",
   "execution_count": 42,
   "id": "7d7916dd",
   "metadata": {},
   "outputs": [
    {
     "data": {
      "image/png": "[encoded data removed]",
      "text/plain": [
       "<Figure size 1440x432 with 1 Axes>"
      ]
     },
     "metadata": {
      "needs_background": "light"
     },
     "output_type": "display_data"
    }
   ],
   "source": [
    "#number of invoices per week, 49th week has the highest number of invoices\n",
    "plt.figure(figsize=(12,6))\n",
    "plt.title(\"Frequency of order by Week\", fontsize=15)\n",
    "InvoiceDate = clean_df.groupby(['Invoice'])['Week'].unique()\n",
    "ax = InvoiceDate.value_counts().sort_index().plot(kind = 'bar',figsize=(20,6), color = color[4])\n",
    "plt.show()"
   ]
  },
  {
   "cell_type": "code",
   "execution_count": 43,
   "id": "bef247da",
   "metadata": {},
   "outputs": [
    {
     "data": {
      "text/plain": [
       "array(['01', '02', '03', '04', '05', '06', '07', '08', '09', '10', '11',\n",
       "       '13', '14', '15', '16', '17', '18', '20', '21', '22', '23', '12',\n",
       "       '19', '24', '25', '26', '27', '28', '29', '31', '30'], dtype=object)"
      ]
     },
     "execution_count": 43,
     "metadata": {},
     "output_type": "execute_result"
    }
   ],
   "source": [
    "clean_df['Day'].unique()\n"
   ]
  },
  {
   "cell_type": "code",
   "execution_count": 44,
   "id": "d7752702",
   "metadata": {},
   "outputs": [
    {
     "data": {
      "text/plain": [
       "<AxesSubplot:title={'center':'Frequency of order by Day'}>"
      ]
     },
     "execution_count": 44,
     "metadata": {},
     "output_type": "execute_result"
    },
    {
     "data": {
      "image/png": "[encoded data removed]",
      "text/plain": [
       "<Figure size 864x432 with 1 Axes>"
      ]
     },
     "metadata": {
      "needs_background": "light"
     },
     "output_type": "display_data"
    }
   ],
   "source": [
    "#frequency of orders by day of the month\n",
    "plt.figure(figsize=(12,6))\n",
    "plt.title(\"Frequency of order by Day\", fontsize=15)\n",
    "InvoiceDate = clean_df.groupby(['Invoice'])['Day'].unique()\n",
    "InvoiceDate.value_counts().sort_index().plot.bar()"
   ]
  },
  {
   "cell_type": "code",
   "execution_count": null,
   "id": "a84a997a",
   "metadata": {},
   "outputs": [],
   "source": []
  },
  {
   "cell_type": "markdown",
   "id": "ee122ce5",
   "metadata": {},
   "source": [
    "#### We can see that no orders were made on a Saturday"
   ]
  },
  {
   "cell_type": "code",
   "execution_count": 45,
   "id": "7821056a",
   "metadata": {},
   "outputs": [
    {
     "data": {
      "image/png": "[encoded data removed]",
      "text/plain": [
       "<Figure size 864x432 with 2 Axes>"
      ]
     },
     "metadata": {
      "needs_background": "light"
     },
     "output_type": "display_data"
    }
   ],
   "source": [
    "#grouping Invoice by Day and Hour and plotting it on a heatmap\n",
    "grouped_df  = clean_df.groupby([\"Day\", \"Hour\"])[\"Invoice\"].unique().reset_index()\n",
    "grouped_df[\"Invoice\"] = grouped_df[\"Invoice\"].apply(len)\n",
    "\n",
    "grouped_df = grouped_df.pivot('Day', 'Hour', 'Invoice')\n",
    "\n",
    "plt.figure(figsize=(12,6))\n",
    "sns.heatmap(grouped_df)\n",
    "plt.title(\"Frequency of Day Vs Hour of day\")\n",
    "plt.show()"
   ]
  },
  {
   "cell_type": "markdown",
   "id": "58a7439f",
   "metadata": {},
   "source": [
    "### This shows that people tend to order mostly around 11am to 2pm , this must be because of the lunch hours free time "
   ]
  },
  {
   "cell_type": "code",
   "execution_count": 46,
   "id": "92d53e6d",
   "metadata": {},
   "outputs": [
    {
     "data": {
      "text/plain": [
       "<AxesSubplot:title={'center':'Frequency of order by Weekday'}>"
      ]
     },
     "execution_count": 46,
     "metadata": {},
     "output_type": "execute_result"
    },
    {
     "data": {
      "image/png": "[encoded data removed]",
      "text/plain": [
       "<Figure size 864x432 with 1 Axes>"
      ]
     },
     "metadata": {
      "needs_background": "light"
     },
     "output_type": "display_data"
    }
   ],
   "source": [
    "#frequency of orders by days of the week\n",
    "plt.figure(figsize=(12,6))\n",
    "plt.title(\"Frequency of order by Weekday\", fontsize=15)\n",
    "InvoiceDate = clean_df.groupby(['Invoice'])['Weekday'].unique()\n",
    "InvoiceDate.value_counts().sort_index().plot.line()\n"
   ]
  },
  {
   "cell_type": "code",
   "execution_count": 47,
   "id": "5f593675",
   "metadata": {},
   "outputs": [
    {
     "data": {
      "image/png": "[encoded data removed]",
      "text/plain": [
       "<Figure size 864x432 with 2 Axes>"
      ]
     },
     "metadata": {
      "needs_background": "light"
     },
     "output_type": "display_data"
    }
   ],
   "source": [
    "#grouping Invoice by Day and Hour and plotting it on a heatmap\n",
    "grouped_df_2  = clean_df.groupby([\"Weekday\", \"Hour\"])[\"Invoice\"].unique().reset_index()\n",
    "grouped_df_2[\"Invoice\"] = grouped_df_2[\"Invoice\"].apply(len)\n",
    "\n",
    "grouped_df_2 = grouped_df_2.pivot('Weekday', 'Hour', 'Invoice')\n",
    "\n",
    "plt.figure(figsize=(12,6))\n",
    "sns.heatmap(grouped_df_2)\n",
    "plt.title(\"Frequency of Week Day Vs Hour of day\")\n",
    "plt.show()"
   ]
  },
  {
   "cell_type": "markdown",
   "id": "032a1855",
   "metadata": {},
   "source": [
    "# Now we will look for patterns in the Price of a product"
   ]
  },
  {
   "cell_type": "code",
   "execution_count": 48,
   "id": "08c559b8",
   "metadata": {},
   "outputs": [],
   "source": [
    "#removing all the rows with negative price"
   ]
  },
  {
   "cell_type": "code",
   "execution_count": 49,
   "id": "b08fd8d6",
   "metadata": {},
   "outputs": [],
   "source": [
    "clean_df = clean_df.loc[(clean_df['Price'] >= 0)]"
   ]
  },
  {
   "cell_type": "code",
   "execution_count": 50,
   "id": "77cf46e8",
   "metadata": {},
   "outputs": [
    {
     "data": {
      "text/plain": [
       "count   1044416.00\n",
       "mean          4.07\n",
       "std          51.38\n",
       "min           0.00\n",
       "25%           1.25\n",
       "50%           2.10\n",
       "75%           4.13\n",
       "max       25111.09\n",
       "Name: Price, dtype: float64"
      ]
     },
     "execution_count": 50,
     "metadata": {},
     "output_type": "execute_result"
    }
   ],
   "source": [
    "clean_df.Price.describe()\n"
   ]
  },
  {
   "cell_type": "code",
   "execution_count": 51,
   "id": "c11f70e3",
   "metadata": {},
   "outputs": [],
   "source": [
    "#minimum price of a product is zero , this means many items must have been sold for free"
   ]
  },
  {
   "cell_type": "code",
   "execution_count": 52,
   "id": "99fd5371",
   "metadata": {},
   "outputs": [
    {
     "name": "stderr",
     "output_type": "stream",
     "text": [
      "C:\\Users\\sahil\\anaconda3\\lib\\site-packages\\seaborn\\_decorators.py:36: FutureWarning: Pass the following variable as a keyword arg: x. From version 0.12, the only valid positional argument will be `data`, and passing other arguments without an explicit keyword will result in an error or misinterpretation.\n",
      "  warnings.warn(\n"
     ]
    },
    {
     "data": {
      "image/png": "[encoded data removed]",
      "text/plain": [
       "<Figure size 864x432 with 1 Axes>"
      ]
     },
     "metadata": {
      "needs_background": "light"
     },
     "output_type": "display_data"
    }
   ],
   "source": [
    "# check the distribution of unit price\n",
    "plt.subplots(figsize=(12,6))\n",
    "sns.boxplot(clean_df.Price)\n",
    "plt.show()\n"
   ]
  },
  {
   "cell_type": "code",
   "execution_count": 53,
   "id": "ed6d9e70",
   "metadata": {},
   "outputs": [],
   "source": [
    "free_items = clean_df.loc[(clean_df['Price'] == 0)]\n"
   ]
  },
  {
   "cell_type": "code",
   "execution_count": 54,
   "id": "a5ca16f7",
   "metadata": {},
   "outputs": [
    {
     "data": {
      "text/plain": [
       "2674"
      ]
     },
     "execution_count": 54,
     "metadata": {},
     "output_type": "execute_result"
    }
   ],
   "source": [
    "#there are 2674 items which have ) price and don't have a customer id assigned to them\n",
    "free_items['Customer ID'].isnull().sum()"
   ]
  },
  {
   "cell_type": "code",
   "execution_count": 55,
   "id": "1bb90e06",
   "metadata": {},
   "outputs": [],
   "source": [
    "#removing those items\n",
    "free_items = free_items[free_items['Customer ID'].notna()]"
   ]
  },
  {
   "cell_type": "code",
   "execution_count": 56,
   "id": "827eecba",
   "metadata": {},
   "outputs": [
    {
     "data": {
      "text/plain": [
       "71"
      ]
     },
     "execution_count": 56,
     "metadata": {},
     "output_type": "execute_result"
    }
   ],
   "source": [
    "#there were 71 transactions with free items\n",
    "len(free_items)"
   ]
  },
  {
   "cell_type": "code",
   "execution_count": 57,
   "id": "e191b0fa",
   "metadata": {},
   "outputs": [
    {
     "data": {
      "text/plain": [
       "200912     7\n",
       "201001     3\n",
       "201002     2\n",
       "201003     1\n",
       "201004     3\n",
       "201006     3\n",
       "201007     1\n",
       "201008     1\n",
       "201009     3\n",
       "201010     2\n",
       "201011     4\n",
       "201012     4\n",
       "201101     3\n",
       "201102     1\n",
       "201103     2\n",
       "201104     2\n",
       "201105     2\n",
       "201107     2\n",
       "201108     6\n",
       "201109     2\n",
       "201110     3\n",
       "201111    14\n",
       "Name: Year_Month, dtype: int64"
      ]
     },
     "execution_count": 57,
     "metadata": {},
     "output_type": "execute_result"
    }
   ],
   "source": [
    "free_items.Year_Month.value_counts().sort_index()\n"
   ]
  },
  {
   "cell_type": "code",
   "execution_count": 58,
   "id": "d47249e7",
   "metadata": {},
   "outputs": [
    {
     "data": {
      "image/png": "[encoded data removed]",
      "text/plain": [
       "<Figure size 1800x432 with 1 Axes>"
      ]
     },
     "metadata": {
      "needs_background": "light"
     },
     "output_type": "display_data"
    }
   ],
   "source": [
    "ax = free_items.Year_Month.value_counts().sort_index().plot(kind = 'bar',figsize=(25,6), color=color[0])\n",
    "ax.set_xlabel('Month',fontsize=20)\n",
    "ax.set_ylabel('Number of free orders',fontsize=20)\n",
    "ax.set_title('Number of  free orders for different Months (1st Dec 2009 - 9th Dec 2011)',fontsize=20)\n",
    "#ax.set_xticklabels(('Dec_09','Jan_10','Feb_10','Mar_10','Apr_10','May_10','Jun_10','July_10','Aug_10','Sep_10','Oct_10','Nov_10','Dec_10','Jan_11','Feb_11','Mar_11','Apr_11','May_11','Jun_11','July_11','Aug_11','Sep_11','Oct_11','Nov_11','Dec_11'), rotation='horizontal', fontsize=25)\n",
    "plt.show()"
   ]
  },
  {
   "cell_type": "markdown",
   "id": "62955b28",
   "metadata": {},
   "source": [
    "### It is not clear why there are FREE items given to certain customers\n",
    "### so the Store gave away maximum no of free items on the month of November 2011\n",
    "### The company gave out 2-4 times FREE items to customers each month (Except in June 2011) on average.\n"
   ]
  },
  {
   "cell_type": "code",
   "execution_count": 60,
   "id": "b65b253b",
   "metadata": {},
   "outputs": [
    {
     "data": {
      "text/plain": [
       "(1044416, 15)"
      ]
     },
     "execution_count": 60,
     "metadata": {},
     "output_type": "execute_result"
    }
   ],
   "source": [
    "clean_df.shape"
   ]
  },
  {
   "cell_type": "code",
   "execution_count": 61,
   "id": "cb68b88e",
   "metadata": {},
   "outputs": [],
   "source": [
    "df_products = pd.DataFrame(clean_df['Description'].unique()).rename(columns = {0:'Description'})"
   ]
  },
  {
   "cell_type": "code",
   "execution_count": 63,
   "id": "e426cf36",
   "metadata": {},
   "outputs": [
    {
     "data": {
      "text/html": [
       "<div>\n",
       "<style scoped>\n",
       "    .dataframe tbody tr th:only-of-type {\n",
       "        vertical-align: middle;\n",
       "    }\n",
       "\n",
       "    .dataframe tbody tr th {\n",
       "        vertical-align: top;\n",
       "    }\n",
       "\n",
       "    .dataframe thead th {\n",
       "        text-align: right;\n",
       "    }\n",
       "</style>\n",
       "<table border=\"1\" class=\"dataframe\">\n",
       "  <thead>\n",
       "    <tr style=\"text-align: right;\">\n",
       "      <th></th>\n",
       "      <th>Description</th>\n",
       "    </tr>\n",
       "  </thead>\n",
       "  <tbody>\n",
       "    <tr>\n",
       "      <th>0</th>\n",
       "      <td>15CM CHRISTMAS GLASS BALL 20 LIGHTS</td>\n",
       "    </tr>\n",
       "    <tr>\n",
       "      <th>1</th>\n",
       "      <td>PINK CHERRY LIGHTS</td>\n",
       "    </tr>\n",
       "    <tr>\n",
       "      <th>2</th>\n",
       "      <td>WHITE CHERRY LIGHTS</td>\n",
       "    </tr>\n",
       "    <tr>\n",
       "      <th>3</th>\n",
       "      <td>RECORD FRAME 7\" SINGLE SIZE</td>\n",
       "    </tr>\n",
       "    <tr>\n",
       "      <th>4</th>\n",
       "      <td>STRAWBERRY CERAMIC TRINKET BOX</td>\n",
       "    </tr>\n",
       "  </tbody>\n",
       "</table>\n",
       "</div>"
      ],
      "text/plain": [
       "                           Description\n",
       "0  15CM CHRISTMAS GLASS BALL 20 LIGHTS\n",
       "1                   PINK CHERRY LIGHTS\n",
       "2                  WHITE CHERRY LIGHTS\n",
       "3         RECORD FRAME 7\" SINGLE SIZE \n",
       "4       STRAWBERRY CERAMIC TRINKET BOX"
      ]
     },
     "execution_count": 63,
     "metadata": {},
     "output_type": "execute_result"
    }
   ],
   "source": [
    "df_products.head()"
   ]
  },
  {
   "cell_type": "code",
   "execution_count": 75,
   "id": "6949cf02",
   "metadata": {},
   "outputs": [
    {
     "name": "stdout",
     "output_type": "stream",
     "text": [
      "15CM CHRISTMAS GLASS BALL 20 LIGHTS\n",
      "PINK CHERRY LIGHTS\n",
      " WHITE CHERRY LIGHTS\n",
      "RECORD FRAME 7\" SINGLE SIZE \n",
      "STRAWBERRY CERAMIC TRINKET BOX\n",
      "PINK DOUGHNUT TRINKET POT \n",
      "SAVE THE PLANET MUG\n",
      "FANCY FONT HOME SWEET HOME DOORMAT\n",
      "CAT BOWL \n",
      "DOG BOWL , CHASING BALL DESIGN\n",
      "<class 'str'>\n"
     ]
    }
   ],
   "source": [
    "for i in df_products['Description'][0:10]:\n",
    "    print(i)\n",
    "print(type(i))"
   ]
  },
  {
   "cell_type": "code",
   "execution_count": 144,
   "id": "72a7df94",
   "metadata": {},
   "outputs": [],
   "source": [
    "import nltk\n",
    "is_noun = lambda pos: pos[:2] == 'NN'\n",
    "\n",
    "\"\"\"function to extract the keywords(nouns) from the description column of the dataframe\"\"\"\n",
    "def keywords_inventory(dataframe, column = 'Description'):\n",
    "\n",
    "    stemmer = nltk.stem.SnowballStemmer(\"english\")\n",
    "    keywords_roots  = dict()  # collect the words / root\n",
    "    keywords_select = dict()  # association: root <-> keyword\n",
    "    category_keys   = []\n",
    "    count_keywords  = dict()\n",
    "    icount = 0\n",
    "    for s in df_products[column][:]:\n",
    "        if pd.isnull(s): continue\n",
    "        #print(type(s))\n",
    "        if type(s) == str:\n",
    "            #print(s)\n",
    "            lines = s.lower()\n",
    "            tokenized = nltk.word_tokenize(lines)\n",
    "            nouns = [word for (word, pos) in nltk.pos_tag(tokenized) if is_noun(pos)] \n",
    "\n",
    "        for t in nouns:\n",
    "            t = t.lower() ; \n",
    "            root = stemmer.stem(t)\n",
    "            if root in keywords_roots:                \n",
    "                keywords_roots[root].add(t)\n",
    "                count_keywords[root] += 1                \n",
    "            else:\n",
    "                keywords_roots[root] = {t}\n",
    "                count_keywords[root] = 1\n",
    "    \n",
    "    for s in keywords_roots.keys():\n",
    "        if len(keywords_roots[s]) > 1:  \n",
    "            min_length = 1000\n",
    "            for k in keywords_roots[s]:\n",
    "                if len(k) < min_length:\n",
    "                    key = k ; min_length = len(k)            \n",
    "            category_keys.append(key)\n",
    "            keywords_select[s] = key\n",
    "        else:\n",
    "            category_keys.append(list(keywords_roots[s])[0])\n",
    "            keywords_select[s] = list(keywords_roots[s])[0]\n",
    "\n",
    "    print(\"Nb of keywords in variable '{}': {}\".format(column,len(category_keys)))\n",
    "    return category_keys, keywords_roots, keywords_select, count_keywords"
   ]
  },
  {
   "cell_type": "code",
   "execution_count": 145,
   "id": "b9d6f871",
   "metadata": {},
   "outputs": [
    {
     "name": "stdout",
     "output_type": "stream",
     "text": [
      "Nb of keywords in variable 'Description': 1829\n"
     ]
    }
   ],
   "source": [
    "keywords, keywords_roots, keywords_select, count_keywords = keywords_inventory(df_products)"
   ]
  },
  {
   "cell_type": "code",
   "execution_count": 133,
   "id": "5d6d221d",
   "metadata": {},
   "outputs": [
    {
     "data": {
      "text/plain": [
       "'CAROUSEL PONIES BABY BIB'"
      ]
     },
     "execution_count": 133,
     "metadata": {},
     "output_type": "execute_result"
    }
   ],
   "source": [
    "#type(df_products['Description'])\n",
    "#df_products['Description'][3921]"
   ]
  },
  {
   "cell_type": "code",
   "execution_count": 150,
   "id": "e96a485f",
   "metadata": {},
   "outputs": [
    {
     "data": {
      "text/plain": [
       "{'decoration', 'decorations', 'decorative'}"
      ]
     },
     "execution_count": 150,
     "metadata": {},
     "output_type": "execute_result"
    }
   ],
   "source": [
    "keywords_roots['decor']"
   ]
  },
  {
   "cell_type": "code",
   "execution_count": 157,
   "id": "131355bf",
   "metadata": {},
   "outputs": [
    {
     "data": {
      "text/plain": [
       "1829"
      ]
     },
     "execution_count": 157,
     "metadata": {},
     "output_type": "execute_result"
    }
   ],
   "source": [
    "len(keywords)"
   ]
  },
  {
   "cell_type": "code",
   "execution_count": 151,
   "id": "ab1f1403",
   "metadata": {},
   "outputs": [
    {
     "name": "stdout",
     "output_type": "stream",
     "text": [
      "{'e', 's', 'k', 'm', 'g'}\n"
     ]
    }
   ],
   "source": [
    "s = {'g', 'e', 'e', 'k', 's'}\n",
    "t = 'm'\n",
    "  \n",
    "# adding tuple t to set s.\n",
    "s.add(t)\n",
    "  \n",
    "print(s)"
   ]
  },
  {
   "cell_type": "code",
   "execution_count": 152,
   "id": "6917dea0",
   "metadata": {},
   "outputs": [],
   "source": [
    "list_products = []\n",
    "for k,v in count_keywords.items():\n",
    "    list_products.append([keywords_select[k],v])\n",
    "list_products.sort(key = lambda x:x[1], reverse = True)"
   ]
  },
  {
   "cell_type": "code",
   "execution_count": 155,
   "id": "805823c7",
   "metadata": {},
   "outputs": [
    {
     "data": {
      "image/png": "[encoded data removed]",
      "text/plain": [
       "<Figure size 504x1800 with 1 Axes>"
      ]
     },
     "metadata": {
      "needs_background": "light"
     },
     "output_type": "display_data"
    }
   ],
   "source": [
    "\"\"\"Shows the occurences of the keywords\"\"\"\n",
    "liste = sorted(list_products, key = lambda x:x[1], reverse = True)\n",
    "#_______________________________\n",
    "plt.rc('font', weight='normal')\n",
    "fig, ax = plt.subplots(figsize=(7, 25))\n",
    "y_axis = [i[1] for i in liste[:125]]\n",
    "x_axis = [k for k,i in enumerate(liste[:125])]\n",
    "x_label = [i[0] for i in liste[:125]]\n",
    "plt.xticks(fontsize = 15)\n",
    "plt.yticks(fontsize = 13)\n",
    "plt.yticks(x_axis, x_label)\n",
    "plt.xlabel(\"Nb. of occurences\", fontsize = 18, labelpad = 10)\n",
    "ax.barh(x_axis, y_axis, align = 'center')\n",
    "ax = plt.gca()\n",
    "ax.invert_yaxis()\n",
    "#_______________________________________________________________________________________\n",
    "plt.title(\"Words occurence\",bbox={'facecolor':'k', 'pad':5}, color='w',fontsize = 25)\n",
    "plt.show()"
   ]
  },
  {
   "cell_type": "code",
   "execution_count": 169,
   "id": "08c93049",
   "metadata": {},
   "outputs": [
    {
     "data": {
      "text/plain": [
       "1596"
      ]
     },
     "execution_count": 169,
     "metadata": {},
     "output_type": "execute_result"
    }
   ],
   "source": [
    "irr_words = [w for w, v in count_keywords.items() if len(w) < 3 or v < 15 ]\n",
    "len(irr_words)"
   ]
  },
  {
   "cell_type": "markdown",
   "id": "ec151779",
   "metadata": {},
   "source": [
    "## 1829 keywords found with most frequent keywords occuring more than 200 times (products) \n",
    "###### Some keywords don't give out much info for example : colours like red, green blue etc\n"
   ]
  },
  {
   "cell_type": "code",
   "execution_count": 172,
   "id": "d3baa0f7",
   "metadata": {},
   "outputs": [
    {
     "name": "stdout",
     "output_type": "stream",
     "text": [
      "Preserved Key Words: 263\n"
     ]
    }
   ],
   "source": [
    "keywords_list = []\n",
    "for k,v in count_keywords.items():\n",
    "    word = keywords_select[k]\n",
    "    if word in ['pink', 'blue', 'tag', 'green', 'orange']: continue\n",
    "    if len(word) < 3 or v < 13: continue\n",
    "    if ('+' in word) or ('/' in word): continue\n",
    "    keywords_list.append([word, v])\n",
    "    \n",
    "products_list.sort(key = lambda x:x[1], reverse = True)\n",
    "print('Preserved Key Words:', len(keywords_list))"
   ]
  },
  {
   "cell_type": "code",
   "execution_count": 174,
   "id": "53f82ffb",
   "metadata": {},
   "outputs": [
    {
     "data": {
      "text/plain": [
       "[['glass', 215],\n",
       " ['ball', 25],\n",
       " ['light', 46],\n",
       " ['cherry', 28],\n",
       " ['frame', 68],\n",
       " ['trinket', 23],\n",
       " ['box', 201],\n",
       " ['pot', 30],\n",
       " ['mug', 96],\n",
       " ['font', 18]]"
      ]
     },
     "execution_count": 174,
     "metadata": {},
     "output_type": "execute_result"
    }
   ],
   "source": [
    "keywords_list[0:10]"
   ]
  },
  {
   "cell_type": "markdown",
   "id": "a06d1981",
   "metadata": {},
   "source": [
    "### conclusion in pdf\n",
    "# The end # \n"
   ]
  },
  {
   "cell_type": "code",
   "execution_count": 182,
   "id": "e6f518ed",
   "metadata": {},
   "outputs": [
    {
     "data": {
      "text/plain": [
       "array(['15CM CHRISTMAS GLASS BALL 20 LIGHTS', 'PINK CHERRY LIGHTS',\n",
       "       ' WHITE CHERRY LIGHTS', ..., 'SET 10 CARDS SWIRLY XMAS TREE 17104',\n",
       "       'CREAM HANGING HEART T-LIGHT HOLDER',\n",
       "       'PAPER CRAFT , LITTLE BIRDIE'], dtype=object)"
      ]
     },
     "execution_count": 182,
     "metadata": {},
     "output_type": "execute_result"
    }
   ],
   "source": [
    "products_list"
   ]
  },
  {
   "cell_type": "code",
   "execution_count": 179,
   "id": "975be65e",
   "metadata": {},
   "outputs": [
    {
     "ename": "TypeError",
     "evalue": "argument of type 'float' is not iterable",
     "output_type": "error",
     "traceback": [
      "\u001b[1;31m---------------------------------------------------------------------------\u001b[0m",
      "\u001b[1;31mTypeError\u001b[0m                                 Traceback (most recent call last)",
      "\u001b[1;32m<ipython-input-179-3ab8d173d056>\u001b[0m in \u001b[0;36m<module>\u001b[1;34m\u001b[0m\n\u001b[0;32m      2\u001b[0m \u001b[0mX\u001b[0m \u001b[1;33m=\u001b[0m \u001b[0mpd\u001b[0m\u001b[1;33m.\u001b[0m\u001b[0mDataFrame\u001b[0m\u001b[1;33m(\u001b[0m\u001b[1;33m)\u001b[0m\u001b[1;33m\u001b[0m\u001b[1;33m\u001b[0m\u001b[0m\n\u001b[0;32m      3\u001b[0m \u001b[1;32mfor\u001b[0m \u001b[0mkey\u001b[0m\u001b[1;33m,\u001b[0m \u001b[0moccurence\u001b[0m \u001b[1;32min\u001b[0m \u001b[0mkeywords_list\u001b[0m\u001b[1;33m:\u001b[0m\u001b[1;33m\u001b[0m\u001b[1;33m\u001b[0m\u001b[0m\n\u001b[1;32m----> 4\u001b[1;33m     \u001b[0mX\u001b[0m\u001b[1;33m.\u001b[0m\u001b[0mloc\u001b[0m\u001b[1;33m[\u001b[0m\u001b[1;33m:\u001b[0m\u001b[1;33m,\u001b[0m \u001b[0mkey\u001b[0m\u001b[1;33m]\u001b[0m \u001b[1;33m=\u001b[0m \u001b[0mlist\u001b[0m\u001b[1;33m(\u001b[0m\u001b[0mmap\u001b[0m\u001b[1;33m(\u001b[0m\u001b[1;32mlambda\u001b[0m \u001b[0mx\u001b[0m\u001b[1;33m:\u001b[0m\u001b[0mint\u001b[0m\u001b[1;33m(\u001b[0m\u001b[0mkey\u001b[0m\u001b[1;33m.\u001b[0m\u001b[0mupper\u001b[0m\u001b[1;33m(\u001b[0m\u001b[1;33m)\u001b[0m \u001b[1;32min\u001b[0m \u001b[0mx\u001b[0m\u001b[1;33m)\u001b[0m\u001b[1;33m,\u001b[0m \u001b[0mproducts_list\u001b[0m\u001b[1;33m)\u001b[0m\u001b[1;33m)\u001b[0m\u001b[1;33m\u001b[0m\u001b[1;33m\u001b[0m\u001b[0m\n\u001b[0m",
      "\u001b[1;32m<ipython-input-179-3ab8d173d056>\u001b[0m in \u001b[0;36m<lambda>\u001b[1;34m(x)\u001b[0m\n\u001b[0;32m      2\u001b[0m \u001b[0mX\u001b[0m \u001b[1;33m=\u001b[0m \u001b[0mpd\u001b[0m\u001b[1;33m.\u001b[0m\u001b[0mDataFrame\u001b[0m\u001b[1;33m(\u001b[0m\u001b[1;33m)\u001b[0m\u001b[1;33m\u001b[0m\u001b[1;33m\u001b[0m\u001b[0m\n\u001b[0;32m      3\u001b[0m \u001b[1;32mfor\u001b[0m \u001b[0mkey\u001b[0m\u001b[1;33m,\u001b[0m \u001b[0moccurence\u001b[0m \u001b[1;32min\u001b[0m \u001b[0mkeywords_list\u001b[0m\u001b[1;33m:\u001b[0m\u001b[1;33m\u001b[0m\u001b[1;33m\u001b[0m\u001b[0m\n\u001b[1;32m----> 4\u001b[1;33m     \u001b[0mX\u001b[0m\u001b[1;33m.\u001b[0m\u001b[0mloc\u001b[0m\u001b[1;33m[\u001b[0m\u001b[1;33m:\u001b[0m\u001b[1;33m,\u001b[0m \u001b[0mkey\u001b[0m\u001b[1;33m]\u001b[0m \u001b[1;33m=\u001b[0m \u001b[0mlist\u001b[0m\u001b[1;33m(\u001b[0m\u001b[0mmap\u001b[0m\u001b[1;33m(\u001b[0m\u001b[1;32mlambda\u001b[0m \u001b[0mx\u001b[0m\u001b[1;33m:\u001b[0m\u001b[0mint\u001b[0m\u001b[1;33m(\u001b[0m\u001b[0mkey\u001b[0m\u001b[1;33m.\u001b[0m\u001b[0mupper\u001b[0m\u001b[1;33m(\u001b[0m\u001b[1;33m)\u001b[0m \u001b[1;32min\u001b[0m \u001b[0mx\u001b[0m\u001b[1;33m)\u001b[0m\u001b[1;33m,\u001b[0m \u001b[0mproducts_list\u001b[0m\u001b[1;33m)\u001b[0m\u001b[1;33m)\u001b[0m\u001b[1;33m\u001b[0m\u001b[1;33m\u001b[0m\u001b[0m\n\u001b[0m",
      "\u001b[1;31mTypeError\u001b[0m: argument of type 'float' is not iterable"
     ]
    }
   ],
   "source": [
    "products_list = clean_df['Description'].unique()\n",
    "X = pd.DataFrame()\n",
    "for key, occurence in keywords_list:\n",
    "    X.loc[:, key] = list(map(lambda x:int(key.upper() in x), products_list))\n"
   ]
  },
  {
   "cell_type": "code",
   "execution_count": 184,
   "id": "f7fa3e58",
   "metadata": {},
   "outputs": [
    {
     "ename": "SyntaxError",
     "evalue": "invalid syntax (<ipython-input-184-2b1ffd8adc66>, line 1)",
     "output_type": "error",
     "traceback": [
      "\u001b[1;36m  File \u001b[1;32m\"<ipython-input-184-2b1ffd8adc66>\"\u001b[1;36m, line \u001b[1;32m1\u001b[0m\n\u001b[1;33m    CREAM HANGING HEART T-LIGHT HOLDER\u001b[0m\n\u001b[1;37m          ^\u001b[0m\n\u001b[1;31mSyntaxError\u001b[0m\u001b[1;31m:\u001b[0m invalid syntax\n"
     ]
    }
   ],
   "source": [
    "CREAM HANGING HEART T-LIGHT HOLDER\n",
    "y = list(map(lambda x:int(key.upper() in x), str('CREAM HANGING HEART T-LIGHT HOLDER')))"
   ]
  },
  {
   "cell_type": "code",
   "execution_count": null,
   "id": "715693c4",
   "metadata": {},
   "outputs": [],
   "source": []
  },
  {
   "cell_type": "code",
   "execution_count": null,
   "id": "2b309e08",
   "metadata": {},
   "outputs": [],
   "source": []
  },
  {
   "cell_type": "code",
   "execution_count": null,
   "id": "e8d15a13",
   "metadata": {},
   "outputs": [],
   "source": []
  },
  {
   "cell_type": "code",
   "execution_count": null,
   "id": "7c06fcc6",
   "metadata": {},
   "outputs": [],
   "source": []
  },
  {
   "cell_type": "code",
   "execution_count": null,
   "id": "556862b7",
   "metadata": {},
   "outputs": [],
   "source": []
  },
  {
   "cell_type": "code",
   "execution_count": null,
   "id": "19be2750",
   "metadata": {},
   "outputs": [],
   "source": []
  },
  {
   "cell_type": "code",
   "execution_count": null,
   "id": "953ff630",
   "metadata": {},
   "outputs": [],
   "source": []
  },
  {
   "cell_type": "code",
   "execution_count": null,
   "id": "89ec3f20",
   "metadata": {},
   "outputs": [],
   "source": []
  },
  {
   "cell_type": "code",
   "execution_count": null,
   "id": "99d48be6",
   "metadata": {},
   "outputs": [],
   "source": []
  },
  {
   "cell_type": "code",
   "execution_count": null,
   "id": "33567edb",
   "metadata": {},
   "outputs": [],
   "source": []
  },
  {
   "cell_type": "code",
   "execution_count": null,
   "id": "8bf828fa",
   "metadata": {},
   "outputs": [],
   "source": []
  },
  {
   "cell_type": "code",
   "execution_count": null,
   "id": "9dbf7f3f",
   "metadata": {},
   "outputs": [],
   "source": []
  },
  {
   "cell_type": "code",
   "execution_count": null,
   "id": "81cd3ed3",
   "metadata": {},
   "outputs": [],
   "source": []
  },
  {
   "cell_type": "code",
   "execution_count": null,
   "id": "8172cee5",
   "metadata": {},
   "outputs": [],
   "source": []
  },
  {
   "cell_type": "code",
   "execution_count": null,
   "id": "14c80aad",
   "metadata": {},
   "outputs": [],
   "source": []
  },
  {
   "cell_type": "code",
   "execution_count": null,
   "id": "e0bbd30b",
   "metadata": {},
   "outputs": [],
   "source": []
  },
  {
   "cell_type": "code",
   "execution_count": null,
   "id": "bcd1c4c0",
   "metadata": {},
   "outputs": [],
   "source": []
  },
  {
   "cell_type": "code",
   "execution_count": null,
   "id": "a8fe74b8",
   "metadata": {},
   "outputs": [],
   "source": []
  },
  {
   "cell_type": "code",
   "execution_count": null,
   "id": "f0dd8c22",
   "metadata": {},
   "outputs": [],
   "source": []
  },
  {
   "cell_type": "code",
   "execution_count": null,
   "id": "2068bb50",
   "metadata": {},
   "outputs": [],
   "source": []
  },
  {
   "cell_type": "code",
   "execution_count": null,
   "id": "83680fbc",
   "metadata": {},
   "outputs": [],
   "source": []
  },
  {
   "cell_type": "code",
   "execution_count": null,
   "id": "76adcce4",
   "metadata": {},
   "outputs": [],
   "source": []
  },
  {
   "cell_type": "code",
   "execution_count": null,
   "id": "ecb52756",
   "metadata": {},
   "outputs": [],
   "source": []
  },
  {
   "cell_type": "code",
   "execution_count": null,
   "id": "95818262",
   "metadata": {},
   "outputs": [],
   "source": []
  },
  {
   "cell_type": "code",
   "execution_count": null,
   "id": "37e46e94",
   "metadata": {},
   "outputs": [],
   "source": []
  },
  {
   "cell_type": "code",
   "execution_count": null,
   "id": "4dfd6e2f",
   "metadata": {},
   "outputs": [],
   "source": []
  },
  {
   "cell_type": "code",
   "execution_count": null,
   "id": "9171fadb",
   "metadata": {},
   "outputs": [],
   "source": []
  },
  {
   "cell_type": "code",
   "execution_count": null,
   "id": "1b17e9f1",
   "metadata": {},
   "outputs": [],
   "source": []
  },
  {
   "cell_type": "code",
   "execution_count": null,
   "id": "21590fbf",
   "metadata": {},
   "outputs": [],
   "source": []
  },
  {
   "cell_type": "code",
   "execution_count": null,
   "id": "c4726d51",
   "metadata": {},
   "outputs": [],
   "source": []
  }
 ],
 "metadata": {
  "kernelspec": {
   "display_name": "Python 3",
   "language": "python",
   "name": "python3"
  },
  "language_info": {
   "codemirror_mode": {
    "name": "ipython",
    "version": 3
   },
   "file_extension": ".py",
   "mimetype": "text/x-python",
   "name": "python",
   "nbconvert_exporter": "python",
   "pygments_lexer": "ipython3",
   "version": "3.8.8"
  }
 },
 "nbformat": 4,
 "nbformat_minor": 5
}
